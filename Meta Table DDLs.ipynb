{
 "cells": [
  {
   "cell_type": "code",
   "execution_count": 0,
   "metadata": {
    "application/vnd.databricks.v1+cell": {
     "cellMetadata": {
      "byteLimit": 2048000,
      "rowLimit": 10000
     },
     "inputWidgets": {},
     "nuid": "58c40fb0-971d-4f89-97ce-0ed844d3c3ca",
     "showTitle": false,
     "title": ""
    }
   },
   "outputs": [
    {
     "output_type": "stream",
     "name": "stdout",
     "output_type": "stream",
     "text": [
      "Out[8]: True"
     ]
    }
   ],
   "source": [
    "# dbutils.fs.rm(\"dbfs:/user/hive/warehouse/dq_datasources\", True)\n",
    "# dbutils.fs.rm(\"dbfs:/user/hive/warehouse/dq_tables\", True)\n",
    "# dbutils.fs.rm(\"dbfs:/user/hive/warehouse/dq_columns\", True)\n",
    "# dbutils.fs.rm(\"dbfs:/user/hive/warehouse/dq_expectation_suites\", True)\n",
    "# dbutils.fs.rm(\"dbfs:/user/hive/warehouse/dq_expectations\", True)\n",
    "# dbutils.fs.rm(\"dbfs:/user/hive/warehouse/dq_validation_results\", True)"
   ]
  },
  {
   "cell_type": "code",
   "execution_count": 0,
   "metadata": {
    "application/vnd.databricks.v1+cell": {
     "cellMetadata": {
      "byteLimit": 2048000,
      "implicitDf": true,
      "rowLimit": 10000
     },
     "inputWidgets": {},
     "nuid": "bce11bc3-ce99-4472-90e5-b3f7ac7b03d0",
     "showTitle": true,
     "title": "Tables DDLS"
    }
   },
   "outputs": [
    {
     "output_type": "display_data",
     "data": {
      "text/html": [
       "<style scoped>\n",
       "  .table-result-container {\n",
       "    max-height: 300px;\n",
       "    overflow: auto;\n",
       "  }\n",
       "  table, th, td {\n",
       "    border: 1px solid black;\n",
       "    border-collapse: collapse;\n",
       "  }\n",
       "  th, td {\n",
       "    padding: 5px;\n",
       "  }\n",
       "  th {\n",
       "    text-align: left;\n",
       "  }\n",
       "</style><div class='table-result-container'><table class='table-result'><thead style='background-color: white'><tr></tr></thead><tbody></tbody></table></div>"
      ]
     },
     "metadata": {
      "application/vnd.databricks.v1+output": {
       "addedWidgets": {},
       "aggData": [],
       "aggError": "",
       "aggOverflow": false,
       "aggSchema": [],
       "aggSeriesLimitReached": false,
       "aggType": "",
       "arguments": {},
       "columnCustomDisplayInfos": {},
       "data": [],
       "datasetInfos": [],
       "dbfsResultPath": null,
       "isJsonSchema": true,
       "metadata": {},
       "overflow": false,
       "plotOptions": {
        "customPlotOptions": {},
        "displayType": "table",
        "pivotAggregation": null,
        "pivotColumns": null,
        "xColumns": null,
        "yColumns": null
       },
       "removedWidgets": [],
       "schema": [],
       "type": "table"
      }
     },
     "output_type": "display_data"
    }
   ],
   "source": [
    "%sql\n",
    "-- Create or replace dq_datasources table\n",
    "CREATE OR REPLACE TABLE dq_datasources (\n",
    "    datasource_id INT,\n",
    "    datasource_name STRING,\n",
    "    datasource_type STRING,\n",
    "    connection_parameters STRING\n",
    ");\n",
    "\n",
    "-- Create or replace dq_tables table\n",
    "CREATE OR REPLACE TABLE dq_tables (\n",
    "    table_id INT,\n",
    "    datasource_id INT,\n",
    "    table_name STRING,\n",
    "    schema STRING\n",
    ");\n",
    "\n",
    "-- Create or replace dq_columns table\n",
    "CREATE OR REPLACE TABLE dq_columns (\n",
    "    column_id INT,\n",
    "    table_id INT,\n",
    "    column_name STRING,\n",
    "    data_type STRING,\n",
    "    nullable BOOLEAN,\n",
    "    other_metadata STRING\n",
    ");\n",
    "\n",
    "-- Create or replace dq_expectation_suites table\n",
    "CREATE OR REPLACE TABLE dq_expectation_suites (\n",
    "    suite_id INT,\n",
    "    table_id INT,\n",
    "    suite_name STRING,\n",
    "    created_at TIMESTAMP,\n",
    "    updated_at TIMESTAMP\n",
    ");\n",
    "\n",
    "-- Create or replace dq_expectations table\n",
    "CREATE OR REPLACE TABLE dq_expectations (\n",
    "    expectation_id INT,\n",
    "    suite_id INT,\n",
    "    expectation_type STRING,\n",
    "    column_name STRING,\n",
    "    other_metadata STRING\n",
    ");\n",
    "\n",
    "\n",
    "-- Create or replace dq_validation_results table\n",
    "CREATE OR REPLACE TABLE dq_validation_results (\n",
    "  result_id int,\n",
    "  success BOOLEAN,\n",
    "  table_name STRING,\n",
    "  expectation_type STRING,\n",
    "  column STRING,\n",
    "  result STRING,\n",
    "  runtime STRING,\n",
    "  validation_type STRING\n",
    ");\n",
    "\n"
   ]
  },
  {
   "cell_type": "code",
   "execution_count": 0,
   "metadata": {
    "application/vnd.databricks.v1+cell": {
     "cellMetadata": {
      "byteLimit": 2048000,
      "implicitDf": true,
      "rowLimit": 10000
     },
     "inputWidgets": {},
     "nuid": "752041d5-168d-4c53-9332-e3b06b961b55",
     "showTitle": true,
     "title": "Data for Table : \"dq_datasources\""
    }
   },
   "outputs": [
    {
     "output_type": "display_data",
     "data": {
      "text/html": [
       "<style scoped>\n",
       "  .table-result-container {\n",
       "    max-height: 300px;\n",
       "    overflow: auto;\n",
       "  }\n",
       "  table, th, td {\n",
       "    border: 1px solid black;\n",
       "    border-collapse: collapse;\n",
       "  }\n",
       "  th, td {\n",
       "    padding: 5px;\n",
       "  }\n",
       "  th {\n",
       "    text-align: left;\n",
       "  }\n",
       "</style><div class='table-result-container'><table class='table-result'><thead style='background-color: white'><tr><th>num_affected_rows</th><th>num_inserted_rows</th></tr></thead><tbody><tr><td>2</td><td>2</td></tr></tbody></table></div>"
      ]
     },
     "metadata": {
      "application/vnd.databricks.v1+output": {
       "addedWidgets": {},
       "aggData": [],
       "aggError": "",
       "aggOverflow": false,
       "aggSchema": [],
       "aggSeriesLimitReached": false,
       "aggType": "",
       "arguments": {},
       "columnCustomDisplayInfos": {},
       "data": [
        [
         2,
         2
        ]
       ],
       "datasetInfos": [],
       "dbfsResultPath": null,
       "isJsonSchema": true,
       "metadata": {},
       "overflow": false,
       "plotOptions": {
        "customPlotOptions": {},
        "displayType": "table",
        "pivotAggregation": null,
        "pivotColumns": null,
        "xColumns": null,
        "yColumns": null
       },
       "removedWidgets": [],
       "schema": [
        {
         "metadata": "{}",
         "name": "num_affected_rows",
         "type": "\"long\""
        },
        {
         "metadata": "{}",
         "name": "num_inserted_rows",
         "type": "\"long\""
        }
       ],
       "type": "table"
      }
     },
     "output_type": "display_data"
    }
   ],
   "source": [
    "%sql\n",
    "INSERT INTO dq_datasources (datasource_id, datasource_name, datasource_type, connection_parameters)\n",
    "VALUES\n",
    "    (1, 'netflix_datasource', 'databricks_table', ''),\n",
    "    (2, 'amazonprime_datasource', 'databricks_table', '');\n",
    "\n"
   ]
  },
  {
   "cell_type": "code",
   "execution_count": 0,
   "metadata": {
    "application/vnd.databricks.v1+cell": {
     "cellMetadata": {
      "byteLimit": 2048000,
      "implicitDf": true,
      "rowLimit": 10000
     },
     "inputWidgets": {},
     "nuid": "f5d83d49-ad49-4552-8f61-29830a459ec8",
     "showTitle": true,
     "title": "Data for Table : \"dq_tables\""
    }
   },
   "outputs": [
    {
     "output_type": "display_data",
     "data": {
      "text/html": [
       "<style scoped>\n",
       "  .table-result-container {\n",
       "    max-height: 300px;\n",
       "    overflow: auto;\n",
       "  }\n",
       "  table, th, td {\n",
       "    border: 1px solid black;\n",
       "    border-collapse: collapse;\n",
       "  }\n",
       "  th, td {\n",
       "    padding: 5px;\n",
       "  }\n",
       "  th {\n",
       "    text-align: left;\n",
       "  }\n",
       "</style><div class='table-result-container'><table class='table-result'><thead style='background-color: white'><tr><th>num_affected_rows</th><th>num_inserted_rows</th></tr></thead><tbody><tr><td>2</td><td>2</td></tr></tbody></table></div>"
      ]
     },
     "metadata": {
      "application/vnd.databricks.v1+output": {
       "addedWidgets": {},
       "aggData": [],
       "aggError": "",
       "aggOverflow": false,
       "aggSchema": [],
       "aggSeriesLimitReached": false,
       "aggType": "",
       "arguments": {},
       "columnCustomDisplayInfos": {},
       "data": [
        [
         2,
         2
        ]
       ],
       "datasetInfos": [],
       "dbfsResultPath": null,
       "isJsonSchema": true,
       "metadata": {},
       "overflow": false,
       "plotOptions": {
        "customPlotOptions": {},
        "displayType": "table",
        "pivotAggregation": null,
        "pivotColumns": null,
        "xColumns": null,
        "yColumns": null
       },
       "removedWidgets": [],
       "schema": [
        {
         "metadata": "{}",
         "name": "num_affected_rows",
         "type": "\"long\""
        },
        {
         "metadata": "{}",
         "name": "num_inserted_rows",
         "type": "\"long\""
        }
       ],
       "type": "table"
      }
     },
     "output_type": "display_data"
    }
   ],
   "source": [
    "%sql\n",
    "\n",
    "INSERT INTO dq_tables (table_id, datasource_id, table_name, schema)\n",
    "VALUES\n",
    "    (1, 1, 'netflix', 'User_ID INT, Subscription_Type STRING, Monthly_Revenue FLOAT, Join_Date DATE, Last_Payment_Date DATE, Country STRING, Age INT, Gender STRING, Device STRING, Plan_Duration INT'),\n",
    "    (2, 2, 'amazon_prime', 'User_ID INT, Subscription_Type STRING, Subscription_Start_Date DATE, Subscription_End_Date DATE, Plan STRING, Membership_Status STRING, Age INT, Gender STRING, Location STRING, Payment_Method STRING');\n",
    "\n",
    "\n"
   ]
  },
  {
   "cell_type": "code",
   "execution_count": 0,
   "metadata": {
    "application/vnd.databricks.v1+cell": {
     "cellMetadata": {
      "byteLimit": 2048000,
      "implicitDf": true,
      "rowLimit": 10000
     },
     "inputWidgets": {},
     "nuid": "7c391909-6bdb-4068-a32c-1e9505f83045",
     "showTitle": true,
     "title": "Data for Table : \"dq_columns\""
    }
   },
   "outputs": [
    {
     "output_type": "display_data",
     "data": {
      "text/html": [
       "<style scoped>\n",
       "  .table-result-container {\n",
       "    max-height: 300px;\n",
       "    overflow: auto;\n",
       "  }\n",
       "  table, th, td {\n",
       "    border: 1px solid black;\n",
       "    border-collapse: collapse;\n",
       "  }\n",
       "  th, td {\n",
       "    padding: 5px;\n",
       "  }\n",
       "  th {\n",
       "    text-align: left;\n",
       "  }\n",
       "</style><div class='table-result-container'><table class='table-result'><thead style='background-color: white'><tr><th>num_affected_rows</th><th>num_inserted_rows</th></tr></thead><tbody><tr><td>20</td><td>20</td></tr></tbody></table></div>"
      ]
     },
     "metadata": {
      "application/vnd.databricks.v1+output": {
       "addedWidgets": {},
       "aggData": [],
       "aggError": "",
       "aggOverflow": false,
       "aggSchema": [],
       "aggSeriesLimitReached": false,
       "aggType": "",
       "arguments": {},
       "columnCustomDisplayInfos": {},
       "data": [
        [
         20,
         20
        ]
       ],
       "datasetInfos": [],
       "dbfsResultPath": null,
       "isJsonSchema": true,
       "metadata": {},
       "overflow": false,
       "plotOptions": {
        "customPlotOptions": {},
        "displayType": "table",
        "pivotAggregation": null,
        "pivotColumns": null,
        "xColumns": null,
        "yColumns": null
       },
       "removedWidgets": [],
       "schema": [
        {
         "metadata": "{}",
         "name": "num_affected_rows",
         "type": "\"long\""
        },
        {
         "metadata": "{}",
         "name": "num_inserted_rows",
         "type": "\"long\""
        }
       ],
       "type": "table"
      }
     },
     "output_type": "display_data"
    }
   ],
   "source": [
    "%sql\n",
    "-- Insert data into dq_columns table\n",
    "INSERT INTO dq_columns (column_id, table_id, column_name, data_type, nullable, other_metadata)\n",
    "VALUES\n",
    "    (1, 1, 'User_ID', 'INT', false, ''),\n",
    "    (2, 1, 'Subscription_Type', 'STRING', true, ''),\n",
    "    (3, 1, 'Monthly_Revenue', 'FLOAT', true, ''),\n",
    "    (4, 1, 'Join_Date', 'DATE', true, ''),\n",
    "    (5, 1, 'Last_Payment_Date', 'DATE', true, ''),\n",
    "    (6, 1, 'Country', 'STRING', true, ''),\n",
    "    (7, 1, 'Age', 'INT', true, ''),\n",
    "    (8, 1, 'Gender', 'STRING', true, ''),\n",
    "    (9, 1, 'Device', 'STRING', true, ''),\n",
    "    (10, 1, 'Plan_Duration', 'INT', true, ''),\n",
    "    (11, 2, 'User_ID', 'INT', false, ''),\n",
    "    (12, 2, 'Subscription_Type', 'STRING', true, ''),\n",
    "    (13, 2, 'Subscription_Start_Date', 'DATE', true, ''),\n",
    "    (14, 2, 'Subscription_End_Date', 'DATE', true, ''),\n",
    "    (15, 2, 'Plan', 'STRING', true, ''),\n",
    "    (16, 2, 'Membership_Status', 'STRING', true, ''),\n",
    "    (17, 2, 'Age', 'INT', true, ''),\n",
    "    (18, 2, 'Gender', 'STRING', true, ''),\n",
    "    (19, 2, 'Location', 'STRING', true, ''),\n",
    "    (20, 2, 'Payment_Method', 'STRING', true, '');\n"
   ]
  },
  {
   "cell_type": "code",
   "execution_count": 0,
   "metadata": {
    "application/vnd.databricks.v1+cell": {
     "cellMetadata": {
      "byteLimit": 2048000,
      "implicitDf": true,
      "rowLimit": 10000
     },
     "inputWidgets": {},
     "nuid": "70282a5a-e3f7-4ba0-8903-27a3111ce5cf",
     "showTitle": true,
     "title": "Data for Table : \"dq_expectation_suites\""
    }
   },
   "outputs": [
    {
     "output_type": "display_data",
     "data": {
      "text/html": [
       "<style scoped>\n",
       "  .table-result-container {\n",
       "    max-height: 300px;\n",
       "    overflow: auto;\n",
       "  }\n",
       "  table, th, td {\n",
       "    border: 1px solid black;\n",
       "    border-collapse: collapse;\n",
       "  }\n",
       "  th, td {\n",
       "    padding: 5px;\n",
       "  }\n",
       "  th {\n",
       "    text-align: left;\n",
       "  }\n",
       "</style><div class='table-result-container'><table class='table-result'><thead style='background-color: white'><tr><th>num_affected_rows</th><th>num_inserted_rows</th></tr></thead><tbody><tr><td>2</td><td>2</td></tr></tbody></table></div>"
      ]
     },
     "metadata": {
      "application/vnd.databricks.v1+output": {
       "addedWidgets": {},
       "aggData": [],
       "aggError": "",
       "aggOverflow": false,
       "aggSchema": [],
       "aggSeriesLimitReached": false,
       "aggType": "",
       "arguments": {},
       "columnCustomDisplayInfos": {},
       "data": [
        [
         2,
         2
        ]
       ],
       "datasetInfos": [],
       "dbfsResultPath": null,
       "isJsonSchema": true,
       "metadata": {},
       "overflow": false,
       "plotOptions": {
        "customPlotOptions": {},
        "displayType": "table",
        "pivotAggregation": null,
        "pivotColumns": null,
        "xColumns": null,
        "yColumns": null
       },
       "removedWidgets": [],
       "schema": [
        {
         "metadata": "{}",
         "name": "num_affected_rows",
         "type": "\"long\""
        },
        {
         "metadata": "{}",
         "name": "num_inserted_rows",
         "type": "\"long\""
        }
       ],
       "type": "table"
      }
     },
     "output_type": "display_data"
    }
   ],
   "source": [
    "%sql\n",
    "INSERT INTO dq_expectation_suites (suite_id, table_id, suite_name, created_at, updated_at)\n",
    "VALUES\n",
    "    (1, 1, 'netflix_suite_1', CURRENT_TIMESTAMP, CURRENT_TIMESTAMP),\n",
    "    (2, 2, 'amazonprime_suite_1', CURRENT_TIMESTAMP, CURRENT_TIMESTAMP);"
   ]
  },
  {
   "cell_type": "code",
   "execution_count": 0,
   "metadata": {
    "application/vnd.databricks.v1+cell": {
     "cellMetadata": {
      "byteLimit": 2048000,
      "implicitDf": true,
      "rowLimit": 10000
     },
     "inputWidgets": {},
     "nuid": "ad4a8865-914d-40dc-9d17-0bc66c0d092e",
     "showTitle": false,
     "title": ""
    }
   },
   "outputs": [
    {
     "output_type": "display_data",
     "data": {
      "text/html": [
       "<style scoped>\n",
       "  .table-result-container {\n",
       "    max-height: 300px;\n",
       "    overflow: auto;\n",
       "  }\n",
       "  table, th, td {\n",
       "    border: 1px solid black;\n",
       "    border-collapse: collapse;\n",
       "  }\n",
       "  th, td {\n",
       "    padding: 5px;\n",
       "  }\n",
       "  th {\n",
       "    text-align: left;\n",
       "  }\n",
       "</style><div class='table-result-container'><table class='table-result'><thead style='background-color: white'><tr><th>num_affected_rows</th><th>num_inserted_rows</th></tr></thead><tbody><tr><td>23</td><td>23</td></tr></tbody></table></div>"
      ]
     },
     "metadata": {
      "application/vnd.databricks.v1+output": {
       "addedWidgets": {},
       "aggData": [],
       "aggError": "",
       "aggOverflow": false,
       "aggSchema": [],
       "aggSeriesLimitReached": false,
       "aggType": "",
       "arguments": {},
       "columnCustomDisplayInfos": {},
       "data": [
        [
         23,
         23
        ]
       ],
       "datasetInfos": [],
       "dbfsResultPath": null,
       "isJsonSchema": true,
       "metadata": {},
       "overflow": false,
       "plotOptions": {
        "customPlotOptions": {},
        "displayType": "table",
        "pivotAggregation": null,
        "pivotColumns": null,
        "xColumns": null,
        "yColumns": null
       },
       "removedWidgets": [],
       "schema": [
        {
         "metadata": "{}",
         "name": "num_affected_rows",
         "type": "\"long\""
        },
        {
         "metadata": "{}",
         "name": "num_inserted_rows",
         "type": "\"long\""
        }
       ],
       "type": "table"
      }
     },
     "output_type": "display_data"
    }
   ],
   "source": [
    "%sql\n",
    "-- Insert data into dq_expectations table\n",
    "INSERT INTO dq_expectations (expectation_id, suite_id, expectation_type, column_name, other_metadata)\n",
    "VALUES\n",
    "    (1, 1, 'expect_column_values_to_not_be_null', 'User_ID',''),\n",
    "    (2, 1, 'expect_column_values_to_not_be_null', 'Subscription_Type', ''),\n",
    "    (3, 1, 'expect_column_values_to_not_be_null', 'Monthly_Revenue', ''),\n",
    "    (4, 1, 'expect_column_values_to_not_be_null', 'Join_Date', ''),\n",
    "    (5, 1, 'expect_column_values_to_not_be_null', 'Last_Payment_Date', ''),\n",
    "    (6, 1, 'expect_column_values_to_not_be_null', 'Country', ''),\n",
    "    (7, 1, 'expect_column_values_to_not_be_null', 'Age', ''),\n",
    "    (8, 1, 'expect_column_values_to_not_be_null', 'Gender', ''),\n",
    "    (9, 1, 'expect_column_values_to_not_be_null', 'Device', ''),\n",
    "    (10, 1, 'expect_column_values_to_not_be_null', 'Plan_Duration', ''),\n",
    "    (11, 1, 'expect_column_values_to_be_unique', 'User_ID',''),\n",
    "    (12, 2, 'expect_column_values_to_not_be_null', 'User_ID',''),\n",
    "    (13, 2, 'expect_column_values_to_not_be_null', 'Subscription_Type', ''),\n",
    "    (14, 2, 'expect_column_values_to_not_be_null', 'Subscription_Start_Date', ''),\n",
    "    (15, 2, 'expect_column_values_to_not_be_null', 'Subscription_End_Date', ''),\n",
    "    (16, 2, 'expect_column_values_to_not_be_null', 'Plan', ''),\n",
    "    (17, 2, 'expect_column_values_to_not_be_null', 'Membership_Status', ''),\n",
    "    (18, 2, 'expect_column_values_to_not_be_null', 'Age', ''),\n",
    "    (19, 2, 'expect_column_values_to_not_be_null', 'Gender', ''),\n",
    "    (20, 2, 'expect_column_values_to_not_be_null', 'Location', ''),\n",
    "    (21, 2, 'expect_column_values_to_not_be_null', 'Payment_Method', ''),\n",
    "    (22, 2, 'expect_column_values_to_be_unique', 'User_ID',''),\n",
    "    (23, 1, 'expect_column_values_to_equal_to_given', 'Age', '');"
   ]
  },
  {
   "cell_type": "code",
   "execution_count": 0,
   "metadata": {
    "application/vnd.databricks.v1+cell": {
     "cellMetadata": {
      "byteLimit": 2048000,
      "rowLimit": 10000
     },
     "inputWidgets": {},
     "nuid": "27bb68aa-ea6e-4382-8b62-345b731cffd8",
     "showTitle": false,
     "title": ""
    }
   },
   "outputs": [
    {
     "output_type": "display_data",
     "data": {
      "text/html": [
       "<style scoped>\n",
       "  .table-result-container {\n",
       "    max-height: 300px;\n",
       "    overflow: auto;\n",
       "  }\n",
       "  table, th, td {\n",
       "    border: 1px solid black;\n",
       "    border-collapse: collapse;\n",
       "  }\n",
       "  th, td {\n",
       "    padding: 5px;\n",
       "  }\n",
       "  th {\n",
       "    text-align: left;\n",
       "  }\n",
       "</style><div class='table-result-container'><table class='table-result'><thead style='background-color: white'><tr><th>column_id</th><th>table_id</th><th>column_name</th><th>data_type</th><th>nullable</th><th>other_metadata</th><th>datasource_id</th><th>datasource_name</th><th>datasource_type</th><th>connection_parameters</th><th>table_name</th><th>schema</th><th>suite_id</th><th>suite_name</th><th>suite_created_at</th><th>suite_updated_at</th><th>expectation_id</th><th>expectation_type</th><th>expectation_column</th><th>expectation_metadata</th></tr></thead><tbody><tr><td>1</td><td>1</td><td>User_ID</td><td>INT</td><td>false</td><td></td><td>1</td><td>netflix_datasource</td><td>databricks_table</td><td></td><td>netflix</td><td>User_ID INT, Subscription_Type STRING, Monthly_Revenue FLOAT, Join_Date DATE, Last_Payment_Date DATE, Country STRING, Age INT, Gender STRING, Device STRING, Plan_Duration INT</td><td>1</td><td>netflix_suite_1</td><td>2024-06-29T03:05:42.056+0000</td><td>2024-06-29T03:05:42.056+0000</td><td>11</td><td>expect_column_values_to_be_unique</td><td>User_ID</td><td></td></tr><tr><td>1</td><td>1</td><td>User_ID</td><td>INT</td><td>false</td><td></td><td>1</td><td>netflix_datasource</td><td>databricks_table</td><td></td><td>netflix</td><td>User_ID INT, Subscription_Type STRING, Monthly_Revenue FLOAT, Join_Date DATE, Last_Payment_Date DATE, Country STRING, Age INT, Gender STRING, Device STRING, Plan_Duration INT</td><td>1</td><td>netflix_suite_1</td><td>2024-06-29T03:05:42.056+0000</td><td>2024-06-29T03:05:42.056+0000</td><td>1</td><td>expect_column_values_to_not_be_null</td><td>User_ID</td><td></td></tr><tr><td>2</td><td>1</td><td>Subscription_Type</td><td>STRING</td><td>true</td><td></td><td>1</td><td>netflix_datasource</td><td>databricks_table</td><td></td><td>netflix</td><td>User_ID INT, Subscription_Type STRING, Monthly_Revenue FLOAT, Join_Date DATE, Last_Payment_Date DATE, Country STRING, Age INT, Gender STRING, Device STRING, Plan_Duration INT</td><td>1</td><td>netflix_suite_1</td><td>2024-06-29T03:05:42.056+0000</td><td>2024-06-29T03:05:42.056+0000</td><td>2</td><td>expect_column_values_to_not_be_null</td><td>Subscription_Type</td><td></td></tr><tr><td>3</td><td>1</td><td>Monthly_Revenue</td><td>FLOAT</td><td>true</td><td></td><td>1</td><td>netflix_datasource</td><td>databricks_table</td><td></td><td>netflix</td><td>User_ID INT, Subscription_Type STRING, Monthly_Revenue FLOAT, Join_Date DATE, Last_Payment_Date DATE, Country STRING, Age INT, Gender STRING, Device STRING, Plan_Duration INT</td><td>1</td><td>netflix_suite_1</td><td>2024-06-29T03:05:42.056+0000</td><td>2024-06-29T03:05:42.056+0000</td><td>3</td><td>expect_column_values_to_not_be_null</td><td>Monthly_Revenue</td><td></td></tr><tr><td>4</td><td>1</td><td>Join_Date</td><td>DATE</td><td>true</td><td></td><td>1</td><td>netflix_datasource</td><td>databricks_table</td><td></td><td>netflix</td><td>User_ID INT, Subscription_Type STRING, Monthly_Revenue FLOAT, Join_Date DATE, Last_Payment_Date DATE, Country STRING, Age INT, Gender STRING, Device STRING, Plan_Duration INT</td><td>1</td><td>netflix_suite_1</td><td>2024-06-29T03:05:42.056+0000</td><td>2024-06-29T03:05:42.056+0000</td><td>4</td><td>expect_column_values_to_not_be_null</td><td>Join_Date</td><td></td></tr><tr><td>5</td><td>1</td><td>Last_Payment_Date</td><td>DATE</td><td>true</td><td></td><td>1</td><td>netflix_datasource</td><td>databricks_table</td><td></td><td>netflix</td><td>User_ID INT, Subscription_Type STRING, Monthly_Revenue FLOAT, Join_Date DATE, Last_Payment_Date DATE, Country STRING, Age INT, Gender STRING, Device STRING, Plan_Duration INT</td><td>1</td><td>netflix_suite_1</td><td>2024-06-29T03:05:42.056+0000</td><td>2024-06-29T03:05:42.056+0000</td><td>5</td><td>expect_column_values_to_not_be_null</td><td>Last_Payment_Date</td><td></td></tr><tr><td>6</td><td>1</td><td>Country</td><td>STRING</td><td>true</td><td></td><td>1</td><td>netflix_datasource</td><td>databricks_table</td><td></td><td>netflix</td><td>User_ID INT, Subscription_Type STRING, Monthly_Revenue FLOAT, Join_Date DATE, Last_Payment_Date DATE, Country STRING, Age INT, Gender STRING, Device STRING, Plan_Duration INT</td><td>1</td><td>netflix_suite_1</td><td>2024-06-29T03:05:42.056+0000</td><td>2024-06-29T03:05:42.056+0000</td><td>6</td><td>expect_column_values_to_not_be_null</td><td>Country</td><td></td></tr><tr><td>7</td><td>1</td><td>Age</td><td>INT</td><td>true</td><td></td><td>1</td><td>netflix_datasource</td><td>databricks_table</td><td></td><td>netflix</td><td>User_ID INT, Subscription_Type STRING, Monthly_Revenue FLOAT, Join_Date DATE, Last_Payment_Date DATE, Country STRING, Age INT, Gender STRING, Device STRING, Plan_Duration INT</td><td>1</td><td>netflix_suite_1</td><td>2024-06-29T03:05:42.056+0000</td><td>2024-06-29T03:05:42.056+0000</td><td>23</td><td>expect_column_values_to_equal_to_given</td><td>Age</td><td></td></tr><tr><td>7</td><td>1</td><td>Age</td><td>INT</td><td>true</td><td></td><td>1</td><td>netflix_datasource</td><td>databricks_table</td><td></td><td>netflix</td><td>User_ID INT, Subscription_Type STRING, Monthly_Revenue FLOAT, Join_Date DATE, Last_Payment_Date DATE, Country STRING, Age INT, Gender STRING, Device STRING, Plan_Duration INT</td><td>1</td><td>netflix_suite_1</td><td>2024-06-29T03:05:42.056+0000</td><td>2024-06-29T03:05:42.056+0000</td><td>7</td><td>expect_column_values_to_not_be_null</td><td>Age</td><td></td></tr><tr><td>8</td><td>1</td><td>Gender</td><td>STRING</td><td>true</td><td></td><td>1</td><td>netflix_datasource</td><td>databricks_table</td><td></td><td>netflix</td><td>User_ID INT, Subscription_Type STRING, Monthly_Revenue FLOAT, Join_Date DATE, Last_Payment_Date DATE, Country STRING, Age INT, Gender STRING, Device STRING, Plan_Duration INT</td><td>1</td><td>netflix_suite_1</td><td>2024-06-29T03:05:42.056+0000</td><td>2024-06-29T03:05:42.056+0000</td><td>8</td><td>expect_column_values_to_not_be_null</td><td>Gender</td><td></td></tr><tr><td>9</td><td>1</td><td>Device</td><td>STRING</td><td>true</td><td></td><td>1</td><td>netflix_datasource</td><td>databricks_table</td><td></td><td>netflix</td><td>User_ID INT, Subscription_Type STRING, Monthly_Revenue FLOAT, Join_Date DATE, Last_Payment_Date DATE, Country STRING, Age INT, Gender STRING, Device STRING, Plan_Duration INT</td><td>1</td><td>netflix_suite_1</td><td>2024-06-29T03:05:42.056+0000</td><td>2024-06-29T03:05:42.056+0000</td><td>9</td><td>expect_column_values_to_not_be_null</td><td>Device</td><td></td></tr><tr><td>10</td><td>1</td><td>Plan_Duration</td><td>INT</td><td>true</td><td></td><td>1</td><td>netflix_datasource</td><td>databricks_table</td><td></td><td>netflix</td><td>User_ID INT, Subscription_Type STRING, Monthly_Revenue FLOAT, Join_Date DATE, Last_Payment_Date DATE, Country STRING, Age INT, Gender STRING, Device STRING, Plan_Duration INT</td><td>1</td><td>netflix_suite_1</td><td>2024-06-29T03:05:42.056+0000</td><td>2024-06-29T03:05:42.056+0000</td><td>10</td><td>expect_column_values_to_not_be_null</td><td>Plan_Duration</td><td></td></tr><tr><td>11</td><td>2</td><td>User_ID</td><td>INT</td><td>false</td><td></td><td>2</td><td>amazonprime_datasource</td><td>databricks_table</td><td></td><td>amazon_prime</td><td>User_ID INT, Subscription_Type STRING, Subscription_Start_Date DATE, Subscription_End_Date DATE, Plan STRING, Membership_Status STRING, Age INT, Gender STRING, Location STRING, Payment_Method STRING</td><td>2</td><td>amazonprime_suite_1</td><td>2024-06-29T03:05:42.056+0000</td><td>2024-06-29T03:05:42.056+0000</td><td>22</td><td>expect_column_values_to_be_unique</td><td>User_ID</td><td></td></tr><tr><td>11</td><td>2</td><td>User_ID</td><td>INT</td><td>false</td><td></td><td>2</td><td>amazonprime_datasource</td><td>databricks_table</td><td></td><td>amazon_prime</td><td>User_ID INT, Subscription_Type STRING, Subscription_Start_Date DATE, Subscription_End_Date DATE, Plan STRING, Membership_Status STRING, Age INT, Gender STRING, Location STRING, Payment_Method STRING</td><td>2</td><td>amazonprime_suite_1</td><td>2024-06-29T03:05:42.056+0000</td><td>2024-06-29T03:05:42.056+0000</td><td>12</td><td>expect_column_values_to_not_be_null</td><td>User_ID</td><td></td></tr><tr><td>12</td><td>2</td><td>Subscription_Type</td><td>STRING</td><td>true</td><td></td><td>2</td><td>amazonprime_datasource</td><td>databricks_table</td><td></td><td>amazon_prime</td><td>User_ID INT, Subscription_Type STRING, Subscription_Start_Date DATE, Subscription_End_Date DATE, Plan STRING, Membership_Status STRING, Age INT, Gender STRING, Location STRING, Payment_Method STRING</td><td>2</td><td>amazonprime_suite_1</td><td>2024-06-29T03:05:42.056+0000</td><td>2024-06-29T03:05:42.056+0000</td><td>13</td><td>expect_column_values_to_not_be_null</td><td>Subscription_Type</td><td></td></tr><tr><td>13</td><td>2</td><td>Subscription_Start_Date</td><td>DATE</td><td>true</td><td></td><td>2</td><td>amazonprime_datasource</td><td>databricks_table</td><td></td><td>amazon_prime</td><td>User_ID INT, Subscription_Type STRING, Subscription_Start_Date DATE, Subscription_End_Date DATE, Plan STRING, Membership_Status STRING, Age INT, Gender STRING, Location STRING, Payment_Method STRING</td><td>2</td><td>amazonprime_suite_1</td><td>2024-06-29T03:05:42.056+0000</td><td>2024-06-29T03:05:42.056+0000</td><td>14</td><td>expect_column_values_to_not_be_null</td><td>Subscription_Start_Date</td><td></td></tr><tr><td>14</td><td>2</td><td>Subscription_End_Date</td><td>DATE</td><td>true</td><td></td><td>2</td><td>amazonprime_datasource</td><td>databricks_table</td><td></td><td>amazon_prime</td><td>User_ID INT, Subscription_Type STRING, Subscription_Start_Date DATE, Subscription_End_Date DATE, Plan STRING, Membership_Status STRING, Age INT, Gender STRING, Location STRING, Payment_Method STRING</td><td>2</td><td>amazonprime_suite_1</td><td>2024-06-29T03:05:42.056+0000</td><td>2024-06-29T03:05:42.056+0000</td><td>15</td><td>expect_column_values_to_not_be_null</td><td>Subscription_End_Date</td><td></td></tr><tr><td>15</td><td>2</td><td>Plan</td><td>STRING</td><td>true</td><td></td><td>2</td><td>amazonprime_datasource</td><td>databricks_table</td><td></td><td>amazon_prime</td><td>User_ID INT, Subscription_Type STRING, Subscription_Start_Date DATE, Subscription_End_Date DATE, Plan STRING, Membership_Status STRING, Age INT, Gender STRING, Location STRING, Payment_Method STRING</td><td>2</td><td>amazonprime_suite_1</td><td>2024-06-29T03:05:42.056+0000</td><td>2024-06-29T03:05:42.056+0000</td><td>16</td><td>expect_column_values_to_not_be_null</td><td>Plan</td><td></td></tr><tr><td>16</td><td>2</td><td>Membership_Status</td><td>STRING</td><td>true</td><td></td><td>2</td><td>amazonprime_datasource</td><td>databricks_table</td><td></td><td>amazon_prime</td><td>User_ID INT, Subscription_Type STRING, Subscription_Start_Date DATE, Subscription_End_Date DATE, Plan STRING, Membership_Status STRING, Age INT, Gender STRING, Location STRING, Payment_Method STRING</td><td>2</td><td>amazonprime_suite_1</td><td>2024-06-29T03:05:42.056+0000</td><td>2024-06-29T03:05:42.056+0000</td><td>17</td><td>expect_column_values_to_not_be_null</td><td>Membership_Status</td><td></td></tr><tr><td>17</td><td>2</td><td>Age</td><td>INT</td><td>true</td><td></td><td>2</td><td>amazonprime_datasource</td><td>databricks_table</td><td></td><td>amazon_prime</td><td>User_ID INT, Subscription_Type STRING, Subscription_Start_Date DATE, Subscription_End_Date DATE, Plan STRING, Membership_Status STRING, Age INT, Gender STRING, Location STRING, Payment_Method STRING</td><td>2</td><td>amazonprime_suite_1</td><td>2024-06-29T03:05:42.056+0000</td><td>2024-06-29T03:05:42.056+0000</td><td>18</td><td>expect_column_values_to_not_be_null</td><td>Age</td><td></td></tr><tr><td>18</td><td>2</td><td>Gender</td><td>STRING</td><td>true</td><td></td><td>2</td><td>amazonprime_datasource</td><td>databricks_table</td><td></td><td>amazon_prime</td><td>User_ID INT, Subscription_Type STRING, Subscription_Start_Date DATE, Subscription_End_Date DATE, Plan STRING, Membership_Status STRING, Age INT, Gender STRING, Location STRING, Payment_Method STRING</td><td>2</td><td>amazonprime_suite_1</td><td>2024-06-29T03:05:42.056+0000</td><td>2024-06-29T03:05:42.056+0000</td><td>19</td><td>expect_column_values_to_not_be_null</td><td>Gender</td><td></td></tr><tr><td>19</td><td>2</td><td>Location</td><td>STRING</td><td>true</td><td></td><td>2</td><td>amazonprime_datasource</td><td>databricks_table</td><td></td><td>amazon_prime</td><td>User_ID INT, Subscription_Type STRING, Subscription_Start_Date DATE, Subscription_End_Date DATE, Plan STRING, Membership_Status STRING, Age INT, Gender STRING, Location STRING, Payment_Method STRING</td><td>2</td><td>amazonprime_suite_1</td><td>2024-06-29T03:05:42.056+0000</td><td>2024-06-29T03:05:42.056+0000</td><td>20</td><td>expect_column_values_to_not_be_null</td><td>Location</td><td></td></tr><tr><td>20</td><td>2</td><td>Payment_Method</td><td>STRING</td><td>true</td><td></td><td>2</td><td>amazonprime_datasource</td><td>databricks_table</td><td></td><td>amazon_prime</td><td>User_ID INT, Subscription_Type STRING, Subscription_Start_Date DATE, Subscription_End_Date DATE, Plan STRING, Membership_Status STRING, Age INT, Gender STRING, Location STRING, Payment_Method STRING</td><td>2</td><td>amazonprime_suite_1</td><td>2024-06-29T03:05:42.056+0000</td><td>2024-06-29T03:05:42.056+0000</td><td>21</td><td>expect_column_values_to_not_be_null</td><td>Payment_Method</td><td></td></tr></tbody></table></div>"
      ]
     },
     "metadata": {
      "application/vnd.databricks.v1+output": {
       "addedWidgets": {},
       "aggData": [],
       "aggError": "",
       "aggOverflow": false,
       "aggSchema": [],
       "aggSeriesLimitReached": false,
       "aggType": "",
       "arguments": {},
       "columnCustomDisplayInfos": {},
       "data": [
        [
         1,
         1,
         "User_ID",
         "INT",
         false,
         "",
         1,
         "netflix_datasource",
         "databricks_table",
         "",
         "netflix",
         "User_ID INT, Subscription_Type STRING, Monthly_Revenue FLOAT, Join_Date DATE, Last_Payment_Date DATE, Country STRING, Age INT, Gender STRING, Device STRING, Plan_Duration INT",
         1,
         "netflix_suite_1",
         "2024-06-29T03:05:42.056+0000",
         "2024-06-29T03:05:42.056+0000",
         11,
         "expect_column_values_to_be_unique",
         "User_ID",
         ""
        ],
        [
         1,
         1,
         "User_ID",
         "INT",
         false,
         "",
         1,
         "netflix_datasource",
         "databricks_table",
         "",
         "netflix",
         "User_ID INT, Subscription_Type STRING, Monthly_Revenue FLOAT, Join_Date DATE, Last_Payment_Date DATE, Country STRING, Age INT, Gender STRING, Device STRING, Plan_Duration INT",
         1,
         "netflix_suite_1",
         "2024-06-29T03:05:42.056+0000",
         "2024-06-29T03:05:42.056+0000",
         1,
         "expect_column_values_to_not_be_null",
         "User_ID",
         ""
        ],
        [
         2,
         1,
         "Subscription_Type",
         "STRING",
         true,
         "",
         1,
         "netflix_datasource",
         "databricks_table",
         "",
         "netflix",
         "User_ID INT, Subscription_Type STRING, Monthly_Revenue FLOAT, Join_Date DATE, Last_Payment_Date DATE, Country STRING, Age INT, Gender STRING, Device STRING, Plan_Duration INT",
         1,
         "netflix_suite_1",
         "2024-06-29T03:05:42.056+0000",
         "2024-06-29T03:05:42.056+0000",
         2,
         "expect_column_values_to_not_be_null",
         "Subscription_Type",
         ""
        ],
        [
         3,
         1,
         "Monthly_Revenue",
         "FLOAT",
         true,
         "",
         1,
         "netflix_datasource",
         "databricks_table",
         "",
         "netflix",
         "User_ID INT, Subscription_Type STRING, Monthly_Revenue FLOAT, Join_Date DATE, Last_Payment_Date DATE, Country STRING, Age INT, Gender STRING, Device STRING, Plan_Duration INT",
         1,
         "netflix_suite_1",
         "2024-06-29T03:05:42.056+0000",
         "2024-06-29T03:05:42.056+0000",
         3,
         "expect_column_values_to_not_be_null",
         "Monthly_Revenue",
         ""
        ],
        [
         4,
         1,
         "Join_Date",
         "DATE",
         true,
         "",
         1,
         "netflix_datasource",
         "databricks_table",
         "",
         "netflix",
         "User_ID INT, Subscription_Type STRING, Monthly_Revenue FLOAT, Join_Date DATE, Last_Payment_Date DATE, Country STRING, Age INT, Gender STRING, Device STRING, Plan_Duration INT",
         1,
         "netflix_suite_1",
         "2024-06-29T03:05:42.056+0000",
         "2024-06-29T03:05:42.056+0000",
         4,
         "expect_column_values_to_not_be_null",
         "Join_Date",
         ""
        ],
        [
         5,
         1,
         "Last_Payment_Date",
         "DATE",
         true,
         "",
         1,
         "netflix_datasource",
         "databricks_table",
         "",
         "netflix",
         "User_ID INT, Subscription_Type STRING, Monthly_Revenue FLOAT, Join_Date DATE, Last_Payment_Date DATE, Country STRING, Age INT, Gender STRING, Device STRING, Plan_Duration INT",
         1,
         "netflix_suite_1",
         "2024-06-29T03:05:42.056+0000",
         "2024-06-29T03:05:42.056+0000",
         5,
         "expect_column_values_to_not_be_null",
         "Last_Payment_Date",
         ""
        ],
        [
         6,
         1,
         "Country",
         "STRING",
         true,
         "",
         1,
         "netflix_datasource",
         "databricks_table",
         "",
         "netflix",
         "User_ID INT, Subscription_Type STRING, Monthly_Revenue FLOAT, Join_Date DATE, Last_Payment_Date DATE, Country STRING, Age INT, Gender STRING, Device STRING, Plan_Duration INT",
         1,
         "netflix_suite_1",
         "2024-06-29T03:05:42.056+0000",
         "2024-06-29T03:05:42.056+0000",
         6,
         "expect_column_values_to_not_be_null",
         "Country",
         ""
        ],
        [
         7,
         1,
         "Age",
         "INT",
         true,
         "",
         1,
         "netflix_datasource",
         "databricks_table",
         "",
         "netflix",
         "User_ID INT, Subscription_Type STRING, Monthly_Revenue FLOAT, Join_Date DATE, Last_Payment_Date DATE, Country STRING, Age INT, Gender STRING, Device STRING, Plan_Duration INT",
         1,
         "netflix_suite_1",
         "2024-06-29T03:05:42.056+0000",
         "2024-06-29T03:05:42.056+0000",
         23,
         "expect_column_values_to_equal_to_given",
         "Age",
         ""
        ],
        [
         7,
         1,
         "Age",
         "INT",
         true,
         "",
         1,
         "netflix_datasource",
         "databricks_table",
         "",
         "netflix",
         "User_ID INT, Subscription_Type STRING, Monthly_Revenue FLOAT, Join_Date DATE, Last_Payment_Date DATE, Country STRING, Age INT, Gender STRING, Device STRING, Plan_Duration INT",
         1,
         "netflix_suite_1",
         "2024-06-29T03:05:42.056+0000",
         "2024-06-29T03:05:42.056+0000",
         7,
         "expect_column_values_to_not_be_null",
         "Age",
         ""
        ],
        [
         8,
         1,
         "Gender",
         "STRING",
         true,
         "",
         1,
         "netflix_datasource",
         "databricks_table",
         "",
         "netflix",
         "User_ID INT, Subscription_Type STRING, Monthly_Revenue FLOAT, Join_Date DATE, Last_Payment_Date DATE, Country STRING, Age INT, Gender STRING, Device STRING, Plan_Duration INT",
         1,
         "netflix_suite_1",
         "2024-06-29T03:05:42.056+0000",
         "2024-06-29T03:05:42.056+0000",
         8,
         "expect_column_values_to_not_be_null",
         "Gender",
         ""
        ],
        [
         9,
         1,
         "Device",
         "STRING",
         true,
         "",
         1,
         "netflix_datasource",
         "databricks_table",
         "",
         "netflix",
         "User_ID INT, Subscription_Type STRING, Monthly_Revenue FLOAT, Join_Date DATE, Last_Payment_Date DATE, Country STRING, Age INT, Gender STRING, Device STRING, Plan_Duration INT",
         1,
         "netflix_suite_1",
         "2024-06-29T03:05:42.056+0000",
         "2024-06-29T03:05:42.056+0000",
         9,
         "expect_column_values_to_not_be_null",
         "Device",
         ""
        ],
        [
         10,
         1,
         "Plan_Duration",
         "INT",
         true,
         "",
         1,
         "netflix_datasource",
         "databricks_table",
         "",
         "netflix",
         "User_ID INT, Subscription_Type STRING, Monthly_Revenue FLOAT, Join_Date DATE, Last_Payment_Date DATE, Country STRING, Age INT, Gender STRING, Device STRING, Plan_Duration INT",
         1,
         "netflix_suite_1",
         "2024-06-29T03:05:42.056+0000",
         "2024-06-29T03:05:42.056+0000",
         10,
         "expect_column_values_to_not_be_null",
         "Plan_Duration",
         ""
        ],
        [
         11,
         2,
         "User_ID",
         "INT",
         false,
         "",
         2,
         "amazonprime_datasource",
         "databricks_table",
         "",
         "amazon_prime",
         "User_ID INT, Subscription_Type STRING, Subscription_Start_Date DATE, Subscription_End_Date DATE, Plan STRING, Membership_Status STRING, Age INT, Gender STRING, Location STRING, Payment_Method STRING",
         2,
         "amazonprime_suite_1",
         "2024-06-29T03:05:42.056+0000",
         "2024-06-29T03:05:42.056+0000",
         22,
         "expect_column_values_to_be_unique",
         "User_ID",
         ""
        ],
        [
         11,
         2,
         "User_ID",
         "INT",
         false,
         "",
         2,
         "amazonprime_datasource",
         "databricks_table",
         "",
         "amazon_prime",
         "User_ID INT, Subscription_Type STRING, Subscription_Start_Date DATE, Subscription_End_Date DATE, Plan STRING, Membership_Status STRING, Age INT, Gender STRING, Location STRING, Payment_Method STRING",
         2,
         "amazonprime_suite_1",
         "2024-06-29T03:05:42.056+0000",
         "2024-06-29T03:05:42.056+0000",
         12,
         "expect_column_values_to_not_be_null",
         "User_ID",
         ""
        ],
        [
         12,
         2,
         "Subscription_Type",
         "STRING",
         true,
         "",
         2,
         "amazonprime_datasource",
         "databricks_table",
         "",
         "amazon_prime",
         "User_ID INT, Subscription_Type STRING, Subscription_Start_Date DATE, Subscription_End_Date DATE, Plan STRING, Membership_Status STRING, Age INT, Gender STRING, Location STRING, Payment_Method STRING",
         2,
         "amazonprime_suite_1",
         "2024-06-29T03:05:42.056+0000",
         "2024-06-29T03:05:42.056+0000",
         13,
         "expect_column_values_to_not_be_null",
         "Subscription_Type",
         ""
        ],
        [
         13,
         2,
         "Subscription_Start_Date",
         "DATE",
         true,
         "",
         2,
         "amazonprime_datasource",
         "databricks_table",
         "",
         "amazon_prime",
         "User_ID INT, Subscription_Type STRING, Subscription_Start_Date DATE, Subscription_End_Date DATE, Plan STRING, Membership_Status STRING, Age INT, Gender STRING, Location STRING, Payment_Method STRING",
         2,
         "amazonprime_suite_1",
         "2024-06-29T03:05:42.056+0000",
         "2024-06-29T03:05:42.056+0000",
         14,
         "expect_column_values_to_not_be_null",
         "Subscription_Start_Date",
         ""
        ],
        [
         14,
         2,
         "Subscription_End_Date",
         "DATE",
         true,
         "",
         2,
         "amazonprime_datasource",
         "databricks_table",
         "",
         "amazon_prime",
         "User_ID INT, Subscription_Type STRING, Subscription_Start_Date DATE, Subscription_End_Date DATE, Plan STRING, Membership_Status STRING, Age INT, Gender STRING, Location STRING, Payment_Method STRING",
         2,
         "amazonprime_suite_1",
         "2024-06-29T03:05:42.056+0000",
         "2024-06-29T03:05:42.056+0000",
         15,
         "expect_column_values_to_not_be_null",
         "Subscription_End_Date",
         ""
        ],
        [
         15,
         2,
         "Plan",
         "STRING",
         true,
         "",
         2,
         "amazonprime_datasource",
         "databricks_table",
         "",
         "amazon_prime",
         "User_ID INT, Subscription_Type STRING, Subscription_Start_Date DATE, Subscription_End_Date DATE, Plan STRING, Membership_Status STRING, Age INT, Gender STRING, Location STRING, Payment_Method STRING",
         2,
         "amazonprime_suite_1",
         "2024-06-29T03:05:42.056+0000",
         "2024-06-29T03:05:42.056+0000",
         16,
         "expect_column_values_to_not_be_null",
         "Plan",
         ""
        ],
        [
         16,
         2,
         "Membership_Status",
         "STRING",
         true,
         "",
         2,
         "amazonprime_datasource",
         "databricks_table",
         "",
         "amazon_prime",
         "User_ID INT, Subscription_Type STRING, Subscription_Start_Date DATE, Subscription_End_Date DATE, Plan STRING, Membership_Status STRING, Age INT, Gender STRING, Location STRING, Payment_Method STRING",
         2,
         "amazonprime_suite_1",
         "2024-06-29T03:05:42.056+0000",
         "2024-06-29T03:05:42.056+0000",
         17,
         "expect_column_values_to_not_be_null",
         "Membership_Status",
         ""
        ],
        [
         17,
         2,
         "Age",
         "INT",
         true,
         "",
         2,
         "amazonprime_datasource",
         "databricks_table",
         "",
         "amazon_prime",
         "User_ID INT, Subscription_Type STRING, Subscription_Start_Date DATE, Subscription_End_Date DATE, Plan STRING, Membership_Status STRING, Age INT, Gender STRING, Location STRING, Payment_Method STRING",
         2,
         "amazonprime_suite_1",
         "2024-06-29T03:05:42.056+0000",
         "2024-06-29T03:05:42.056+0000",
         18,
         "expect_column_values_to_not_be_null",
         "Age",
         ""
        ],
        [
         18,
         2,
         "Gender",
         "STRING",
         true,
         "",
         2,
         "amazonprime_datasource",
         "databricks_table",
         "",
         "amazon_prime",
         "User_ID INT, Subscription_Type STRING, Subscription_Start_Date DATE, Subscription_End_Date DATE, Plan STRING, Membership_Status STRING, Age INT, Gender STRING, Location STRING, Payment_Method STRING",
         2,
         "amazonprime_suite_1",
         "2024-06-29T03:05:42.056+0000",
         "2024-06-29T03:05:42.056+0000",
         19,
         "expect_column_values_to_not_be_null",
         "Gender",
         ""
        ],
        [
         19,
         2,
         "Location",
         "STRING",
         true,
         "",
         2,
         "amazonprime_datasource",
         "databricks_table",
         "",
         "amazon_prime",
         "User_ID INT, Subscription_Type STRING, Subscription_Start_Date DATE, Subscription_End_Date DATE, Plan STRING, Membership_Status STRING, Age INT, Gender STRING, Location STRING, Payment_Method STRING",
         2,
         "amazonprime_suite_1",
         "2024-06-29T03:05:42.056+0000",
         "2024-06-29T03:05:42.056+0000",
         20,
         "expect_column_values_to_not_be_null",
         "Location",
         ""
        ],
        [
         20,
         2,
         "Payment_Method",
         "STRING",
         true,
         "",
         2,
         "amazonprime_datasource",
         "databricks_table",
         "",
         "amazon_prime",
         "User_ID INT, Subscription_Type STRING, Subscription_Start_Date DATE, Subscription_End_Date DATE, Plan STRING, Membership_Status STRING, Age INT, Gender STRING, Location STRING, Payment_Method STRING",
         2,
         "amazonprime_suite_1",
         "2024-06-29T03:05:42.056+0000",
         "2024-06-29T03:05:42.056+0000",
         21,
         "expect_column_values_to_not_be_null",
         "Payment_Method",
         ""
        ]
       ],
       "datasetInfos": [],
       "dbfsResultPath": null,
       "isJsonSchema": true,
       "metadata": {},
       "overflow": false,
       "plotOptions": {
        "customPlotOptions": {},
        "displayType": "table",
        "pivotAggregation": null,
        "pivotColumns": null,
        "xColumns": null,
        "yColumns": null
       },
       "removedWidgets": [],
       "schema": [
        {
         "metadata": "{}",
         "name": "column_id",
         "type": "\"integer\""
        },
        {
         "metadata": "{}",
         "name": "table_id",
         "type": "\"integer\""
        },
        {
         "metadata": "{}",
         "name": "column_name",
         "type": "\"string\""
        },
        {
         "metadata": "{}",
         "name": "data_type",
         "type": "\"string\""
        },
        {
         "metadata": "{}",
         "name": "nullable",
         "type": "\"boolean\""
        },
        {
         "metadata": "{}",
         "name": "other_metadata",
         "type": "\"string\""
        },
        {
         "metadata": "{}",
         "name": "datasource_id",
         "type": "\"integer\""
        },
        {
         "metadata": "{}",
         "name": "datasource_name",
         "type": "\"string\""
        },
        {
         "metadata": "{}",
         "name": "datasource_type",
         "type": "\"string\""
        },
        {
         "metadata": "{}",
         "name": "connection_parameters",
         "type": "\"string\""
        },
        {
         "metadata": "{}",
         "name": "table_name",
         "type": "\"string\""
        },
        {
         "metadata": "{}",
         "name": "schema",
         "type": "\"string\""
        },
        {
         "metadata": "{}",
         "name": "suite_id",
         "type": "\"integer\""
        },
        {
         "metadata": "{}",
         "name": "suite_name",
         "type": "\"string\""
        },
        {
         "metadata": "{}",
         "name": "suite_created_at",
         "type": "\"timestamp\""
        },
        {
         "metadata": "{}",
         "name": "suite_updated_at",
         "type": "\"timestamp\""
        },
        {
         "metadata": "{}",
         "name": "expectation_id",
         "type": "\"integer\""
        },
        {
         "metadata": "{}",
         "name": "expectation_type",
         "type": "\"string\""
        },
        {
         "metadata": "{}",
         "name": "expectation_column",
         "type": "\"string\""
        },
        {
         "metadata": "{}",
         "name": "expectation_metadata",
         "type": "\"string\""
        }
       ],
       "type": "table"
      }
     },
     "output_type": "display_data"
    }
   ],
   "source": [
    "# Step 1: Execute SQL Query\n",
    "sql_query = \"\"\"\n",
    "SELECT\n",
    "    dc.column_id,\n",
    "    dc.table_id,\n",
    "    dc.column_name,\n",
    "    dc.data_type,\n",
    "    dc.nullable,\n",
    "    dc.other_metadata,\n",
    "    ds.datasource_id,\n",
    "    ds.datasource_name,\n",
    "    ds.datasource_type,\n",
    "    ds.connection_parameters,\n",
    "    dt.table_name,\n",
    "    dt.schema,\n",
    "    des.suite_id,\n",
    "    des.suite_name,\n",
    "    des.created_at AS suite_created_at,\n",
    "    des.updated_at AS suite_updated_at,\n",
    "    dex.expectation_id,\n",
    "    dex.expectation_type,\n",
    "    dex.column_name AS expectation_column,\n",
    "    dex.other_metadata AS expectation_metadata\n",
    "FROM\n",
    "    dq_tables dt\n",
    "JOIN\n",
    "    dq_columns dc ON dt.table_id = dc.table_id\n",
    "JOIN\n",
    "    dq_datasources ds ON dt.datasource_id = ds.datasource_id\n",
    "JOIN\n",
    "    dq_expectation_suites des ON dc.table_id = des.table_id\n",
    "JOIN\n",
    "    dq_expectations dex ON des.suite_id = dex.suite_id\n",
    "AND\n",
    "    dc.column_name=dex.column_name;\n",
    "\"\"\"\n",
    "\n",
    "meta_table_df = spark.sql(sql_query)\n",
    "\n",
    "display(meta_table_df)"
   ]
  },
  {
   "cell_type": "code",
   "execution_count": 0,
   "metadata": {
    "application/vnd.databricks.v1+cell": {
     "cellMetadata": {
      "byteLimit": 2048000,
      "rowLimit": 10000
     },
     "inputWidgets": {},
     "nuid": "c72bceb6-5905-4826-9869-0c4a4bd32919",
     "showTitle": false,
     "title": ""
    }
   },
   "outputs": [],
   "source": []
  }
 ],
 "metadata": {
  "application/vnd.databricks.v1+notebook": {
   "dashboards": [],
   "environmentMetadata": null,
   "language": "python",
   "notebookMetadata": {
    "mostRecentlyExecutedCommandWithImplicitDF": {
     "commandId": 497914253220356,
     "dataframes": [
      "_sqldf"
     ]
    },
    "pythonIndentUnit": 4
   },
   "notebookName": "Table DDLs",
   "widgets": {}
  }
 },
 "nbformat": 4,
 "nbformat_minor": 0
}
