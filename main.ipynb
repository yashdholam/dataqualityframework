{
 "cells": [
  {
   "cell_type": "code",
   "execution_count": 0,
   "metadata": {
    "application/vnd.databricks.v1+cell": {
     "cellMetadata": {
      "byteLimit": 2048000,
      "rowLimit": 10000
     },
     "inputWidgets": {},
     "nuid": "3da6eb25-b366-45f5-8e82-42180f827a8e",
     "showTitle": false,
     "title": ""
    }
   },
   "outputs": [
    {
     "output_type": "stream",
     "name": "stdout",
     "output_type": "stream",
     "text": [
      "Python interpreter will be restarted.\nRequirement already satisfied: great-expectations in /local_disk0/.ephemeral_nfs/envs/pythonEnv-bd5ef934-8ba6-416a-b76b-bd9d4de96ee7/lib/python3.9/site-packages (0.18.17)\nRequirement already satisfied: marshmallow<4.0.0,>=3.7.1 in /local_disk0/.ephemeral_nfs/envs/pythonEnv-bd5ef934-8ba6-416a-b76b-bd9d4de96ee7/lib/python3.9/site-packages (from great-expectations) (3.21.3)\nRequirement already satisfied: makefun<2,>=1.7.0 in /local_disk0/.ephemeral_nfs/envs/pythonEnv-bd5ef934-8ba6-416a-b76b-bd9d4de96ee7/lib/python3.9/site-packages (from great-expectations) (1.15.2)\nRequirement already satisfied: urllib3>=1.26 in /databricks/python3/lib/python3.9/site-packages (from great-expectations) (1.26.9)\nRequirement already satisfied: ipywidgets>=7.5.1 in /databricks/python3/lib/python3.9/site-packages (from great-expectations) (7.7.2)\nRequirement already satisfied: packaging in /local_disk0/.ephemeral_nfs/envs/pythonEnv-bd5ef934-8ba6-416a-b76b-bd9d4de96ee7/lib/python3.9/site-packages (from great-expectations) (24.1)\nRequirement already satisfied: Ipython>=7.16.3 in /databricks/python3/lib/python3.9/site-packages (from great-expectations) (8.5.0)\nRequirement already satisfied: requests>=2.20 in /local_disk0/.ephemeral_nfs/envs/pythonEnv-bd5ef934-8ba6-416a-b76b-bd9d4de96ee7/lib/python3.9/site-packages (from great-expectations) (2.32.3)\nRequirement already satisfied: typing-extensions>=3.10.0.0 in /local_disk0/.ephemeral_nfs/envs/pythonEnv-bd5ef934-8ba6-416a-b76b-bd9d4de96ee7/lib/python3.9/site-packages (from great-expectations) (4.12.2)\nRequirement already satisfied: pytz>=2021.3 in /databricks/python3/lib/python3.9/site-packages (from great-expectations) (2021.3)\nRequirement already satisfied: tzlocal>=1.2 in /local_disk0/.ephemeral_nfs/envs/pythonEnv-bd5ef934-8ba6-416a-b76b-bd9d4de96ee7/lib/python3.9/site-packages (from great-expectations) (5.2)\nRequirement already satisfied: numpy<2.0.0,>=1.21.6 in /local_disk0/.ephemeral_nfs/envs/pythonEnv-bd5ef934-8ba6-416a-b76b-bd9d4de96ee7/lib/python3.9/site-packages (from great-expectations) (1.22.4)\nRequirement already satisfied: jinja2>=2.10 in /local_disk0/.ephemeral_nfs/envs/pythonEnv-bd5ef934-8ba6-416a-b76b-bd9d4de96ee7/lib/python3.9/site-packages (from great-expectations) (3.1.4)\nRequirement already satisfied: jsonschema>=2.5.1 in /local_disk0/.ephemeral_nfs/envs/pythonEnv-bd5ef934-8ba6-416a-b76b-bd9d4de96ee7/lib/python3.9/site-packages (from great-expectations) (4.22.0)\nRequirement already satisfied: colorama>=0.4.3 in /local_disk0/.ephemeral_nfs/envs/pythonEnv-bd5ef934-8ba6-416a-b76b-bd9d4de96ee7/lib/python3.9/site-packages (from great-expectations) (0.4.6)\nRequirement already satisfied: jsonpatch>=1.22 in /local_disk0/.ephemeral_nfs/envs/pythonEnv-bd5ef934-8ba6-416a-b76b-bd9d4de96ee7/lib/python3.9/site-packages (from great-expectations) (1.33)\nRequirement already satisfied: altair<5.0.0,>=4.2.1 in /local_disk0/.ephemeral_nfs/envs/pythonEnv-bd5ef934-8ba6-416a-b76b-bd9d4de96ee7/lib/python3.9/site-packages (from great-expectations) (4.2.2)\nRequirement already satisfied: pydantic>=1.9.2 in /local_disk0/.ephemeral_nfs/envs/pythonEnv-bd5ef934-8ba6-416a-b76b-bd9d4de96ee7/lib/python3.9/site-packages (from great-expectations) (2.7.4)\nRequirement already satisfied: cryptography>=3.2 in /databricks/python3/lib/python3.9/site-packages (from great-expectations) (3.4.8)\nRequirement already satisfied: Click>=7.1.2 in /databricks/python3/lib/python3.9/site-packages (from great-expectations) (8.0.4)\nRequirement already satisfied: nbformat>=5.0 in /databricks/python3/lib/python3.9/site-packages (from great-expectations) (5.3.0)\nRequirement already satisfied: pandas>=1.1.3 in /databricks/python3/lib/python3.9/site-packages (from great-expectations) (1.4.2)\nRequirement already satisfied: python-dateutil>=2.8.1 in /databricks/python3/lib/python3.9/site-packages (from great-expectations) (2.8.2)\nRequirement already satisfied: mistune>=0.8.4 in /databricks/python3/lib/python3.9/site-packages (from great-expectations) (0.8.4)\nRequirement already satisfied: ruamel.yaml<0.17.18,>=0.16 in /local_disk0/.ephemeral_nfs/envs/pythonEnv-bd5ef934-8ba6-416a-b76b-bd9d4de96ee7/lib/python3.9/site-packages (from great-expectations) (0.17.17)\nRequirement already satisfied: notebook>=6.4.10 in /local_disk0/.ephemeral_nfs/envs/pythonEnv-bd5ef934-8ba6-416a-b76b-bd9d4de96ee7/lib/python3.9/site-packages (from great-expectations) (7.2.1)\nRequirement already satisfied: tqdm>=4.59.0 in /local_disk0/.ephemeral_nfs/envs/pythonEnv-bd5ef934-8ba6-416a-b76b-bd9d4de96ee7/lib/python3.9/site-packages (from great-expectations) (4.66.4)\nRequirement already satisfied: scipy>=1.6.0 in /databricks/python3/lib/python3.9/site-packages (from great-expectations) (1.7.3)\nRequirement already satisfied: pyparsing>=2.4 in /databricks/python3/lib/python3.9/site-packages (from great-expectations) (3.0.4)\nRequirement already satisfied: toolz in /local_disk0/.ephemeral_nfs/envs/pythonEnv-bd5ef934-8ba6-416a-b76b-bd9d4de96ee7/lib/python3.9/site-packages (from altair<5.0.0,>=4.2.1->great-expectations) (0.12.1)\nRequirement already satisfied: entrypoints in /databricks/python3/lib/python3.9/site-packages (from altair<5.0.0,>=4.2.1->great-expectations) (0.4)\nRequirement already satisfied: cffi>=1.12 in /databricks/python3/lib/python3.9/site-packages (from cryptography>=3.2->great-expectations) (1.15.0)\nRequirement already satisfied: pycparser in /databricks/python3/lib/python3.9/site-packages (from cffi>=1.12->cryptography>=3.2->great-expectations) (2.21)\nRequirement already satisfied: prompt-toolkit<3.1.0,>3.0.1 in /databricks/python3/lib/python3.9/site-packages (from Ipython>=7.16.3->great-expectations) (3.0.20)\nRequirement already satisfied: pygments>=2.4.0 in /databricks/python3/lib/python3.9/site-packages (from Ipython>=7.16.3->great-expectations) (2.11.2)\nRequirement already satisfied: pexpect>4.3 in /databricks/python3/lib/python3.9/site-packages (from Ipython>=7.16.3->great-expectations) (4.8.0)\nRequirement already satisfied: traitlets>=5 in /local_disk0/.ephemeral_nfs/envs/pythonEnv-bd5ef934-8ba6-416a-b76b-bd9d4de96ee7/lib/python3.9/site-packages (from Ipython>=7.16.3->great-expectations) (5.14.3)\nRequirement already satisfied: decorator in /databricks/python3/lib/python3.9/site-packages (from Ipython>=7.16.3->great-expectations) (5.1.1)\nRequirement already satisfied: stack-data in /databricks/python3/lib/python3.9/site-packages (from Ipython>=7.16.3->great-expectations) (0.2.0)\nRequirement already satisfied: backcall in /databricks/python3/lib/python3.9/site-packages (from Ipython>=7.16.3->great-expectations) (0.2.0)\nRequirement already satisfied: jedi>=0.16 in /databricks/python3/lib/python3.9/site-packages (from Ipython>=7.16.3->great-expectations) (0.18.1)\nRequirement already satisfied: pickleshare in /databricks/python3/lib/python3.9/site-packages (from Ipython>=7.16.3->great-expectations) (0.7.5)\nRequirement already satisfied: matplotlib-inline in /databricks/python3/lib/python3.9/site-packages (from Ipython>=7.16.3->great-expectations) (0.1.2)\nRequirement already satisfied: widgetsnbextension~=3.6.0 in /databricks/python3/lib/python3.9/site-packages (from ipywidgets>=7.5.1->great-expectations) (3.6.1)\nRequirement already satisfied: jupyterlab-widgets<3,>=1.0.0 in /databricks/python3/lib/python3.9/site-packages (from ipywidgets>=7.5.1->great-expectations) (1.0.0)\nRequirement already satisfied: ipython-genutils~=0.2.0 in /databricks/python3/lib/python3.9/site-packages (from ipywidgets>=7.5.1->great-expectations) (0.2.0)\nRequirement already satisfied: ipykernel>=4.5.1 in /databricks/python3/lib/python3.9/site-packages (from ipywidgets>=7.5.1->great-expectations) (6.15.3)\nRequirement already satisfied: tornado>=6.1 in /local_disk0/.ephemeral_nfs/envs/pythonEnv-bd5ef934-8ba6-416a-b76b-bd9d4de96ee7/lib/python3.9/site-packages (from ipykernel>=4.5.1->ipywidgets>=7.5.1->great-expectations) (6.4.1)\nRequirement already satisfied: pyzmq>=17 in /local_disk0/.ephemeral_nfs/envs/pythonEnv-bd5ef934-8ba6-416a-b76b-bd9d4de96ee7/lib/python3.9/site-packages (from ipykernel>=4.5.1->ipywidgets>=7.5.1->great-expectations) (26.0.3)\nRequirement already satisfied: jupyter-client>=6.1.12 in /local_disk0/.ephemeral_nfs/envs/pythonEnv-bd5ef934-8ba6-416a-b76b-bd9d4de96ee7/lib/python3.9/site-packages (from ipykernel>=4.5.1->ipywidgets>=7.5.1->great-expectations) (8.6.2)\nRequirement already satisfied: debugpy>=1.0 in /databricks/python3/lib/python3.9/site-packages (from ipykernel>=4.5.1->ipywidgets>=7.5.1->great-expectations) (1.5.1)\nRequirement already satisfied: nest-asyncio in /databricks/python3/lib/python3.9/site-packages (from ipykernel>=4.5.1->ipywidgets>=7.5.1->great-expectations) (1.5.5)\nRequirement already satisfied: psutil in /databricks/python3/lib/python3.9/site-packages (from ipykernel>=4.5.1->ipywidgets>=7.5.1->great-expectations) (5.8.0)\nRequirement already satisfied: parso<0.9.0,>=0.8.0 in /databricks/python3/lib/python3.9/site-packages (from jedi>=0.16->Ipython>=7.16.3->great-expectations) (0.8.3)\nRequirement already satisfied: MarkupSafe>=2.0 in /databricks/python3/lib/python3.9/site-packages (from jinja2>=2.10->great-expectations) (2.0.1)\nRequirement already satisfied: jsonpointer>=1.9 in /local_disk0/.ephemeral_nfs/envs/pythonEnv-bd5ef934-8ba6-416a-b76b-bd9d4de96ee7/lib/python3.9/site-packages (from jsonpatch>=1.22->great-expectations) (3.0.0)\nRequirement already satisfied: rpds-py>=0.7.1 in /local_disk0/.ephemeral_nfs/envs/pythonEnv-bd5ef934-8ba6-416a-b76b-bd9d4de96ee7/lib/python3.9/site-packages (from jsonschema>=2.5.1->great-expectations) (0.18.1)\nRequirement already satisfied: jsonschema-specifications>=2023.03.6 in /local_disk0/.ephemeral_nfs/envs/pythonEnv-bd5ef934-8ba6-416a-b76b-bd9d4de96ee7/lib/python3.9/site-packages (from jsonschema>=2.5.1->great-expectations) (2023.12.1)\nRequirement already satisfied: attrs>=22.2.0 in /local_disk0/.ephemeral_nfs/envs/pythonEnv-bd5ef934-8ba6-416a-b76b-bd9d4de96ee7/lib/python3.9/site-packages (from jsonschema>=2.5.1->great-expectations) (23.2.0)\nRequirement already satisfied: referencing>=0.28.4 in /local_disk0/.ephemeral_nfs/envs/pythonEnv-bd5ef934-8ba6-416a-b76b-bd9d4de96ee7/lib/python3.9/site-packages (from jsonschema>=2.5.1->great-expectations) (0.35.1)\nRequirement already satisfied: jupyter-core!=5.0.*,>=4.12 in /local_disk0/.ephemeral_nfs/envs/pythonEnv-bd5ef934-8ba6-416a-b76b-bd9d4de96ee7/lib/python3.9/site-packages (from jupyter-client>=6.1.12->ipykernel>=4.5.1->ipywidgets>=7.5.1->great-expectations) (5.7.2)\nRequirement already satisfied: importlib-metadata>=4.8.3 in /local_disk0/.ephemeral_nfs/envs/pythonEnv-bd5ef934-8ba6-416a-b76b-bd9d4de96ee7/lib/python3.9/site-packages (from jupyter-client>=6.1.12->ipykernel>=4.5.1->ipywidgets>=7.5.1->great-expectations) (8.0.0)\nRequirement already satisfied: zipp>=0.5 in /local_disk0/.ephemeral_nfs/envs/pythonEnv-bd5ef934-8ba6-416a-b76b-bd9d4de96ee7/lib/python3.9/site-packages (from importlib-metadata>=4.8.3->jupyter-client>=6.1.12->ipykernel>=4.5.1->ipywidgets>=7.5.1->great-expectations) (3.19.2)\nRequirement already satisfied: platformdirs>=2.5 in /usr/local/lib/python3.9/dist-packages (from jupyter-core!=5.0.*,>=4.12->jupyter-client>=6.1.12->ipykernel>=4.5.1->ipywidgets>=7.5.1->great-expectations) (2.6.2)\nRequirement already satisfied: fastjsonschema in /databricks/python3/lib/python3.9/site-packages (from nbformat>=5.0->great-expectations) (2.16.2)\nRequirement already satisfied: jupyterlab-server<3,>=2.27.1 in /local_disk0/.ephemeral_nfs/envs/pythonEnv-bd5ef934-8ba6-416a-b76b-bd9d4de96ee7/lib/python3.9/site-packages (from notebook>=6.4.10->great-expectations) (2.27.2)\nRequirement already satisfied: jupyterlab<4.3,>=4.2.0 in /local_disk0/.ephemeral_nfs/envs/pythonEnv-bd5ef934-8ba6-416a-b76b-bd9d4de96ee7/lib/python3.9/site-packages (from notebook>=6.4.10->great-expectations) (4.2.3)\nRequirement already satisfied: notebook-shim<0.3,>=0.2 in /local_disk0/.ephemeral_nfs/envs/pythonEnv-bd5ef934-8ba6-416a-b76b-bd9d4de96ee7/lib/python3.9/site-packages (from notebook>=6.4.10->great-expectations) (0.2.4)\nRequirement already satisfied: jupyter-server<3,>=2.4.0 in /local_disk0/.ephemeral_nfs/envs/pythonEnv-bd5ef934-8ba6-416a-b76b-bd9d4de96ee7/lib/python3.9/site-packages (from notebook>=6.4.10->great-expectations) (2.14.1)\nRequirement already satisfied: jupyter-server-terminals>=0.4.4 in /local_disk0/.ephemeral_nfs/envs/pythonEnv-bd5ef934-8ba6-416a-b76b-bd9d4de96ee7/lib/python3.9/site-packages (from jupyter-server<3,>=2.4.0->notebook>=6.4.10->great-expectations) (0.5.3)\nRequirement already satisfied: websocket-client>=1.7 in /local_disk0/.ephemeral_nfs/envs/pythonEnv-bd5ef934-8ba6-416a-b76b-bd9d4de96ee7/lib/python3.9/site-packages (from jupyter-server<3,>=2.4.0->notebook>=6.4.10->great-expectations) (1.8.0)\nRequirement already satisfied: jupyter-events>=0.9.0 in /local_disk0/.ephemeral_nfs/envs/pythonEnv-bd5ef934-8ba6-416a-b76b-bd9d4de96ee7/lib/python3.9/site-packages (from jupyter-server<3,>=2.4.0->notebook>=6.4.10->great-expectations) (0.10.0)\nRequirement already satisfied: argon2-cffi>=21.1 in /databricks/python3/lib/python3.9/site-packages (from jupyter-server<3,>=2.4.0->notebook>=6.4.10->great-expectations) (21.3.0)\nRequirement already satisfied: nbconvert>=6.4.4 in /databricks/python3/lib/python3.9/site-packages (from jupyter-server<3,>=2.4.0->notebook>=6.4.10->great-expectations) (6.4.4)\nRequirement already satisfied: terminado>=0.8.3 in /databricks/python3/lib/python3.9/site-packages (from jupyter-server<3,>=2.4.0->notebook>=6.4.10->great-expectations) (0.13.1)\nRequirement already satisfied: prometheus-client>=0.9 in /databricks/python3/lib/python3.9/site-packages (from jupyter-server<3,>=2.4.0->notebook>=6.4.10->great-expectations) (0.13.1)\nRequirement already satisfied: send2trash>=1.8.2 in /local_disk0/.ephemeral_nfs/envs/pythonEnv-bd5ef934-8ba6-416a-b76b-bd9d4de96ee7/lib/python3.9/site-packages (from jupyter-server<3,>=2.4.0->notebook>=6.4.10->great-expectations) (1.8.3)\nRequirement already satisfied: overrides>=5.0 in /local_disk0/.ephemeral_nfs/envs/pythonEnv-bd5ef934-8ba6-416a-b76b-bd9d4de96ee7/lib/python3.9/site-packages (from jupyter-server<3,>=2.4.0->notebook>=6.4.10->great-expectations) (7.7.0)\nRequirement already satisfied: anyio>=3.1.0 in /local_disk0/.ephemeral_nfs/envs/pythonEnv-bd5ef934-8ba6-416a-b76b-bd9d4de96ee7/lib/python3.9/site-packages (from jupyter-server<3,>=2.4.0->notebook>=6.4.10->great-expectations) (4.4.0)\nRequirement already satisfied: idna>=2.8 in /databricks/python3/lib/python3.9/site-packages (from anyio>=3.1.0->jupyter-server<3,>=2.4.0->notebook>=6.4.10->great-expectations) (3.3)\nRequirement already satisfied: exceptiongroup>=1.0.2 in /local_disk0/.ephemeral_nfs/envs/pythonEnv-bd5ef934-8ba6-416a-b76b-bd9d4de96ee7/lib/python3.9/site-packages (from anyio>=3.1.0->jupyter-server<3,>=2.4.0->notebook>=6.4.10->great-expectations) (1.2.1)\nRequirement already satisfied: sniffio>=1.1 in /local_disk0/.ephemeral_nfs/envs/pythonEnv-bd5ef934-8ba6-416a-b76b-bd9d4de96ee7/lib/python3.9/site-packages (from anyio>=3.1.0->jupyter-server<3,>=2.4.0->notebook>=6.4.10->great-expectations) (1.3.1)\nRequirement already satisfied: argon2-cffi-bindings in /databricks/python3/lib/python3.9/site-packages (from argon2-cffi>=21.1->jupyter-server<3,>=2.4.0->notebook>=6.4.10->great-expectations) (21.2.0)\nRequirement already satisfied: rfc3339-validator in /local_disk0/.ephemeral_nfs/envs/pythonEnv-bd5ef934-8ba6-416a-b76b-bd9d4de96ee7/lib/python3.9/site-packages (from jupyter-events>=0.9.0->jupyter-server<3,>=2.4.0->notebook>=6.4.10->great-expectations) (0.1.4)\nRequirement already satisfied: pyyaml>=5.3 in /local_disk0/.ephemeral_nfs/envs/pythonEnv-bd5ef934-8ba6-416a-b76b-bd9d4de96ee7/lib/python3.9/site-packages (from jupyter-events>=0.9.0->jupyter-server<3,>=2.4.0->notebook>=6.4.10->great-expectations) (6.0.1)\nRequirement already satisfied: python-json-logger>=2.0.4 in /local_disk0/.ephemeral_nfs/envs/pythonEnv-bd5ef934-8ba6-416a-b76b-bd9d4de96ee7/lib/python3.9/site-packages (from jupyter-events>=0.9.0->jupyter-server<3,>=2.4.0->notebook>=6.4.10->great-expectations) (2.0.7)\nRequirement already satisfied: rfc3986-validator>=0.1.1 in /local_disk0/.ephemeral_nfs/envs/pythonEnv-bd5ef934-8ba6-416a-b76b-bd9d4de96ee7/lib/python3.9/site-packages (from jupyter-events>=0.9.0->jupyter-server<3,>=2.4.0->notebook>=6.4.10->great-expectations) (0.1.1)\nRequirement already satisfied: uri-template in /local_disk0/.ephemeral_nfs/envs/pythonEnv-bd5ef934-8ba6-416a-b76b-bd9d4de96ee7/lib/python3.9/site-packages (from jsonschema>=2.5.1->great-expectations) (1.3.0)\nRequirement already satisfied: webcolors>=1.11 in /local_disk0/.ephemeral_nfs/envs/pythonEnv-bd5ef934-8ba6-416a-b76b-bd9d4de96ee7/lib/python3.9/site-packages (from jsonschema>=2.5.1->great-expectations) (24.6.0)\nRequirement already satisfied: fqdn in /local_disk0/.ephemeral_nfs/envs/pythonEnv-bd5ef934-8ba6-416a-b76b-bd9d4de96ee7/lib/python3.9/site-packages (from jsonschema>=2.5.1->great-expectations) (1.5.1)\nRequirement already satisfied: isoduration in /local_disk0/.ephemeral_nfs/envs/pythonEnv-bd5ef934-8ba6-416a-b76b-bd9d4de96ee7/lib/python3.9/site-packages (from jsonschema>=2.5.1->great-expectations) (20.11.0)\nRequirement already satisfied: tomli>=1.2.2 in /databricks/python3/lib/python3.9/site-packages (from jupyterlab<4.3,>=4.2.0->notebook>=6.4.10->great-expectations) (1.2.2)\nRequirement already satisfied: httpx>=0.25.0 in /local_disk0/.ephemeral_nfs/envs/pythonEnv-bd5ef934-8ba6-416a-b76b-bd9d4de96ee7/lib/python3.9/site-packages (from jupyterlab<4.3,>=4.2.0->notebook>=6.4.10->great-expectations) (0.27.0)\nRequirement already satisfied: jupyter-lsp>=2.0.0 in /local_disk0/.ephemeral_nfs/envs/pythonEnv-bd5ef934-8ba6-416a-b76b-bd9d4de96ee7/lib/python3.9/site-packages (from jupyterlab<4.3,>=4.2.0->notebook>=6.4.10->great-expectations) (2.2.5)\nRequirement already satisfied: setuptools>=40.1.0 in /databricks/python3/lib/python3.9/site-packages (from jupyterlab<4.3,>=4.2.0->notebook>=6.4.10->great-expectations) (61.2.0)\nRequirement already satisfied: async-lru>=1.0.0 in /local_disk0/.ephemeral_nfs/envs/pythonEnv-bd5ef934-8ba6-416a-b76b-bd9d4de96ee7/lib/python3.9/site-packages (from jupyterlab<4.3,>=4.2.0->notebook>=6.4.10->great-expectations) (2.0.4)\nRequirement already satisfied: httpcore==1.* in /local_disk0/.ephemeral_nfs/envs/pythonEnv-bd5ef934-8ba6-416a-b76b-bd9d4de96ee7/lib/python3.9/site-packages (from httpx>=0.25.0->jupyterlab<4.3,>=4.2.0->notebook>=6.4.10->great-expectations) (1.0.5)\nRequirement already satisfied: certifi in /databricks/python3/lib/python3.9/site-packages (from httpx>=0.25.0->jupyterlab<4.3,>=4.2.0->notebook>=6.4.10->great-expectations) (2021.10.8)\nRequirement already satisfied: h11<0.15,>=0.13 in /local_disk0/.ephemeral_nfs/envs/pythonEnv-bd5ef934-8ba6-416a-b76b-bd9d4de96ee7/lib/python3.9/site-packages (from httpcore==1.*->httpx>=0.25.0->jupyterlab<4.3,>=4.2.0->notebook>=6.4.10->great-expectations) (0.14.0)\nRequirement already satisfied: babel>=2.10 in /local_disk0/.ephemeral_nfs/envs/pythonEnv-bd5ef934-8ba6-416a-b76b-bd9d4de96ee7/lib/python3.9/site-packages (from jupyterlab-server<3,>=2.27.1->notebook>=6.4.10->great-expectations) (2.15.0)\nRequirement already satisfied: json5>=0.9.0 in /local_disk0/.ephemeral_nfs/envs/pythonEnv-bd5ef934-8ba6-416a-b76b-bd9d4de96ee7/lib/python3.9/site-packages (from jupyterlab-server<3,>=2.27.1->notebook>=6.4.10->great-expectations) (0.9.25)\nRequirement already satisfied: pandocfilters>=1.4.1 in /databricks/python3/lib/python3.9/site-packages (from nbconvert>=6.4.4->jupyter-server<3,>=2.4.0->notebook>=6.4.10->great-expectations) (1.5.0)\nRequirement already satisfied: defusedxml in /databricks/python3/lib/python3.9/site-packages (from nbconvert>=6.4.4->jupyter-server<3,>=2.4.0->notebook>=6.4.10->great-expectations) (0.7.1)\nRequirement already satisfied: nbclient<0.6.0,>=0.5.0 in /databricks/python3/lib/python3.9/site-packages (from nbconvert>=6.4.4->jupyter-server<3,>=2.4.0->notebook>=6.4.10->great-expectations) (0.5.13)\nRequirement already satisfied: testpath in /databricks/python3/lib/python3.9/site-packages (from nbconvert>=6.4.4->jupyter-server<3,>=2.4.0->notebook>=6.4.10->great-expectations) (0.5.0)\nRequirement already satisfied: beautifulsoup4 in /databricks/python3/lib/python3.9/site-packages (from nbconvert>=6.4.4->jupyter-server<3,>=2.4.0->notebook>=6.4.10->great-expectations) (4.11.1)\nRequirement already satisfied: bleach in /databricks/python3/lib/python3.9/site-packages (from nbconvert>=6.4.4->jupyter-server<3,>=2.4.0->notebook>=6.4.10->great-expectations) (4.1.0)\nRequirement already satisfied: jupyterlab-pygments in /databricks/python3/lib/python3.9/site-packages (from nbconvert>=6.4.4->jupyter-server<3,>=2.4.0->notebook>=6.4.10->great-expectations) (0.1.2)\nRequirement already satisfied: ptyprocess>=0.5 in /databricks/python3/lib/python3.9/site-packages (from pexpect>4.3->Ipython>=7.16.3->great-expectations) (0.7.0)\nRequirement already satisfied: wcwidth in /databricks/python3/lib/python3.9/site-packages (from prompt-toolkit<3.1.0,>3.0.1->Ipython>=7.16.3->great-expectations) (0.2.5)\nRequirement already satisfied: annotated-types>=0.4.0 in /local_disk0/.ephemeral_nfs/envs/pythonEnv-bd5ef934-8ba6-416a-b76b-bd9d4de96ee7/lib/python3.9/site-packages (from pydantic>=1.9.2->great-expectations) (0.7.0)\nRequirement already satisfied: pydantic-core==2.18.4 in /local_disk0/.ephemeral_nfs/envs/pythonEnv-bd5ef934-8ba6-416a-b76b-bd9d4de96ee7/lib/python3.9/site-packages (from pydantic>=1.9.2->great-expectations) (2.18.4)\nRequirement already satisfied: six>=1.5 in /databricks/python3/lib/python3.9/site-packages (from python-dateutil>=2.8.1->great-expectations) (1.16.0)\nRequirement already satisfied: charset-normalizer<4,>=2 in /databricks/python3/lib/python3.9/site-packages (from requests>=2.20->great-expectations) (2.0.4)\nRequirement already satisfied: ruamel.yaml.clib>=0.1.2 in /local_disk0/.ephemeral_nfs/envs/pythonEnv-bd5ef934-8ba6-416a-b76b-bd9d4de96ee7/lib/python3.9/site-packages (from ruamel.yaml<0.17.18,>=0.16->great-expectations) (0.2.8)\nRequirement already satisfied: soupsieve>1.2 in /databricks/python3/lib/python3.9/site-packages (from beautifulsoup4->nbconvert>=6.4.4->jupyter-server<3,>=2.4.0->notebook>=6.4.10->great-expectations) (2.3.1)\nRequirement already satisfied: webencodings in /databricks/python3/lib/python3.9/site-packages (from bleach->nbconvert>=6.4.4->jupyter-server<3,>=2.4.0->notebook>=6.4.10->great-expectations) (0.5.1)\nRequirement already satisfied: arrow>=0.15.0 in /local_disk0/.ephemeral_nfs/envs/pythonEnv-bd5ef934-8ba6-416a-b76b-bd9d4de96ee7/lib/python3.9/site-packages (from isoduration->jsonschema>=2.5.1->great-expectations) (1.3.0)\nRequirement already satisfied: types-python-dateutil>=2.8.10 in /local_disk0/.ephemeral_nfs/envs/pythonEnv-bd5ef934-8ba6-416a-b76b-bd9d4de96ee7/lib/python3.9/site-packages (from arrow>=0.15.0->isoduration->jsonschema>=2.5.1->great-expectations) (2.9.0.20240316)\nRequirement already satisfied: pure-eval in /databricks/python3/lib/python3.9/site-packages (from stack-data->Ipython>=7.16.3->great-expectations) (0.2.2)\nRequirement already satisfied: asttokens in /databricks/python3/lib/python3.9/site-packages (from stack-data->Ipython>=7.16.3->great-expectations) (2.0.5)\nRequirement already satisfied: executing in /databricks/python3/lib/python3.9/site-packages (from stack-data->Ipython>=7.16.3->great-expectations) (0.8.3)\nPython interpreter will be restarted.\n"
     ]
    }
   ],
   "source": [
    "%run /Users/your_email/DataQuality/Data_quality"
   ]
  },
  {
   "cell_type": "code",
   "execution_count": 0,
   "metadata": {
    "application/vnd.databricks.v1+cell": {
     "cellMetadata": {
      "byteLimit": 2048000,
      "rowLimit": 10000
     },
     "inputWidgets": {},
     "nuid": "59df4b52-8c22-4f27-acd9-c8897ba7d20b",
     "showTitle": false,
     "title": ""
    }
   },
   "outputs": [
    {
     "output_type": "stream",
     "name": "stdout",
     "output_type": "stream",
     "text": [
      "{\n  \"success\": true,\n  \"results\": [\n    {\n      \"success\": true,\n      \"expectation_config\": {\n        \"expectation_type\": \"expect_column_values_to_be_unique\",\n        \"kwargs\": {\n          \"column\": \"id\",\n          \"result_format\": \"BASIC\"\n        },\n        \"meta\": {}\n      },\n      \"result\": {\n        \"element_count\": 2,\n        \"missing_count\": 0,\n        \"missing_percent\": 0.0,\n        \"unexpected_count\": 0,\n        \"unexpected_percent\": 0.0,\n        \"unexpected_percent_total\": 0.0,\n        \"unexpected_percent_nonmissing\": 0.0,\n        \"partial_unexpected_list\": []\n      },\n      \"meta\": {},\n      \"exception_info\": {\n        \"raised_exception\": false,\n        \"exception_message\": null,\n        \"exception_traceback\": null\n      }\n    },\n    {\n      \"success\": true,\n      \"expectation_config\": {\n        \"expectation_type\": \"expect_column_values_to_not_be_null\",\n        \"kwargs\": {\n          \"column\": \"name\",\n          \"result_format\": \"BASIC\"\n        },\n        \"meta\": {}\n      },\n      \"result\": {\n        \"element_count\": 2,\n        \"unexpected_count\": 0,\n        \"unexpected_percent\": 0.0,\n        \"unexpected_percent_total\": 0.0,\n        \"partial_unexpected_list\": []\n      },\n      \"meta\": {},\n      \"exception_info\": {\n        \"raised_exception\": false,\n        \"exception_message\": null,\n        \"exception_traceback\": null\n      }\n    }\n  ],\n  \"evaluation_parameters\": {},\n  \"statistics\": {\n    \"evaluated_expectations\": 2,\n    \"successful_expectations\": 2,\n    \"unsuccessful_expectations\": 0,\n    \"success_percent\": 100.0\n  },\n  \"meta\": {\n    \"great_expectations_version\": \"0.18.17\",\n    \"expectation_suite_name\": \"default\",\n    \"run_id\": {\n      \"run_name\": null,\n      \"run_time\": \"2024-06-29T03:45:20.657656+00:00\"\n    },\n    \"batch_kwargs\": {\n      \"ge_batch_id\": \"ffbdf232-35c9-11ef-9c98-00163eccd603\"\n    },\n    \"batch_markers\": {},\n    \"batch_parameters\": {},\n    \"validation_time\": \"20240629T034520.653274Z\",\n    \"expectation_suite_meta\": {\n      \"great_expectations_version\": \"0.18.17\"\n    }\n  }\n}\n"
     ]
    },
    {
     "output_type": "display_data",
     "data": {
      "text/html": [
       "<style scoped>\n",
       "  .table-result-container {\n",
       "    max-height: 300px;\n",
       "    overflow: auto;\n",
       "  }\n",
       "  table, th, td {\n",
       "    border: 1px solid black;\n",
       "    border-collapse: collapse;\n",
       "  }\n",
       "  th, td {\n",
       "    padding: 5px;\n",
       "  }\n",
       "  th {\n",
       "    text-align: left;\n",
       "  }\n",
       "</style><div class='table-result-container'><table class='table-result'><thead style='background-color: white'><tr><th>result_id</th><th>success</th><th>table_name</th><th>expectation_type</th><th>column</th><th>result</th><th>runtime</th><th>validation_type</th></tr></thead><tbody><tr><td>1</td><td>true</td><td>demo</td><td>expect_column_values_to_be_unique</td><td>id</td><td>{\"element_count\": 2, \"missing_count\": 0, \"missing_percent\": 0.0, \"unexpected_count\": 0, \"unexpected_percent\": 0.0, \"unexpected_percent_total\": 0.0, \"unexpected_percent_nonmissing\": 0.0, \"partial_unexpected_list\": []}</td><td>2024-06-29T03:45:20.657656+00:00</td><td>pre</td></tr><tr><td>2</td><td>true</td><td>demo</td><td>expect_column_values_to_not_be_null</td><td>name</td><td>{\"element_count\": 2, \"unexpected_count\": 0, \"unexpected_percent\": 0.0, \"unexpected_percent_total\": 0.0, \"partial_unexpected_list\": []}</td><td>2024-06-29T03:45:20.657656+00:00</td><td>pre</td></tr></tbody></table></div>"
      ]
     },
     "metadata": {
      "application/vnd.databricks.v1+output": {
       "addedWidgets": {},
       "aggData": [],
       "aggError": "",
       "aggOverflow": false,
       "aggSchema": [],
       "aggSeriesLimitReached": false,
       "aggType": "",
       "arguments": {},
       "columnCustomDisplayInfos": {},
       "data": [
        [
         1,
         true,
         "demo",
         "expect_column_values_to_be_unique",
         "id",
         "{\"element_count\": 2, \"missing_count\": 0, \"missing_percent\": 0.0, \"unexpected_count\": 0, \"unexpected_percent\": 0.0, \"unexpected_percent_total\": 0.0, \"unexpected_percent_nonmissing\": 0.0, \"partial_unexpected_list\": []}",
         "2024-06-29T03:45:20.657656+00:00",
         "pre"
        ],
        [
         2,
         true,
         "demo",
         "expect_column_values_to_not_be_null",
         "name",
         "{\"element_count\": 2, \"unexpected_count\": 0, \"unexpected_percent\": 0.0, \"unexpected_percent_total\": 0.0, \"partial_unexpected_list\": []}",
         "2024-06-29T03:45:20.657656+00:00",
         "pre"
        ]
       ],
       "datasetInfos": [],
       "dbfsResultPath": null,
       "isJsonSchema": true,
       "metadata": {},
       "overflow": false,
       "plotOptions": {
        "customPlotOptions": {},
        "displayType": "table",
        "pivotAggregation": null,
        "pivotColumns": null,
        "xColumns": null,
        "yColumns": null
       },
       "removedWidgets": [],
       "schema": [
        {
         "metadata": "{}",
         "name": "result_id",
         "type": "\"integer\""
        },
        {
         "metadata": "{}",
         "name": "success",
         "type": "\"boolean\""
        },
        {
         "metadata": "{}",
         "name": "table_name",
         "type": "\"string\""
        },
        {
         "metadata": "{}",
         "name": "expectation_type",
         "type": "\"string\""
        },
        {
         "metadata": "{}",
         "name": "column",
         "type": "\"string\""
        },
        {
         "metadata": "{}",
         "name": "result",
         "type": "\"string\""
        },
        {
         "metadata": "{}",
         "name": "runtime",
         "type": "\"string\""
        },
        {
         "metadata": "{}",
         "name": "validation_type",
         "type": "\"string\""
        }
       ],
       "type": "table"
      }
     },
     "output_type": "display_data"
    },
    {
     "output_type": "display_data",
     "data": {
      "text/html": [
       "<style scoped>\n",
       "  .table-result-container {\n",
       "    max-height: 300px;\n",
       "    overflow: auto;\n",
       "  }\n",
       "  table, th, td {\n",
       "    border: 1px solid black;\n",
       "    border-collapse: collapse;\n",
       "  }\n",
       "  th, td {\n",
       "    padding: 5px;\n",
       "  }\n",
       "  th {\n",
       "    text-align: left;\n",
       "  }\n",
       "</style><div class='table-result-container'><table class='table-result'><thead style='background-color: white'><tr><th>result_id</th><th>success</th><th>table_name</th><th>expectation_type</th><th>column</th><th>result</th><th>runtime</th><th>validation_type</th></tr></thead><tbody><tr><td>4</td><td>false</td><td>netflix</td><td>expect_column_values_to_equal_to_given</td><td>Age</td><td>{\"element_count\": 2500, \"unexpected_count\": 2412, \"unexpected_percent\": 96.51860744297718, \"partial_unexpected_list\": [28, 35, 42, 51, 33, 29, 46, 39, 37, 44, 31, 45, 48, 27, null, 36, 30, 43, 32, 41], \"missing_count\": 1, \"missing_percent\": 0.04, \"unexpected_percent_total\": 96.48, \"unexpected_percent_nonmissing\": 96.51860744297718}</td><td>2024-06-29T03:16:54.083990+00:00</td><td>post</td></tr><tr><td>7</td><td>true</td><td>amazon_prime</td><td>expect_column_values_to_not_be_null</td><td>Subscription_End_Date</td><td>{\"element_count\": 40, \"unexpected_count\": 0, \"unexpected_percent\": 0.0, \"partial_unexpected_list\": [], \"partial_unexpected_counts\": []}</td><td>2024-06-29T03:16:32.030542+00:00</td><td>post</td></tr><tr><td>8</td><td>true</td><td>amazon_prime</td><td>expect_column_values_to_not_be_null</td><td>Subscription_Start_Date</td><td>{\"element_count\": 40, \"unexpected_count\": 0, \"unexpected_percent\": 0.0, \"partial_unexpected_list\": [], \"partial_unexpected_counts\": []}</td><td>2024-06-29T03:16:32.030542+00:00</td><td>post</td></tr><tr><td>1</td><td>true</td><td>demo</td><td>expect_column_values_to_be_unique</td><td>id</td><td>{\"element_count\": 2, \"missing_count\": 0, \"missing_percent\": 0.0, \"unexpected_count\": 0, \"unexpected_percent\": 0.0, \"unexpected_percent_total\": 0.0, \"unexpected_percent_nonmissing\": 0.0, \"partial_unexpected_list\": []}</td><td>2024-06-29T03:23:46.841211+00:00</td><td>pre</td></tr><tr><td>1</td><td>false</td><td>amazon_prime</td><td>expect_column_values_to_not_be_null</td><td>Payment_Method</td><td>{\"element_count\": 40, \"unexpected_count\": 2, \"unexpected_percent\": 5.0, \"partial_unexpected_list\": [null, null], \"partial_unexpected_counts\": [{\"value\": null, \"count\": 2}]}</td><td>2024-06-29T03:16:32.030542+00:00</td><td>post</td></tr><tr><td>8</td><td>true</td><td>netflix</td><td>expect_column_values_to_not_be_null</td><td>Join_Date</td><td>{\"element_count\": 2500, \"unexpected_count\": 0, \"unexpected_percent\": 0.0, \"partial_unexpected_list\": [], \"partial_unexpected_counts\": []}</td><td>2024-06-29T03:16:54.083990+00:00</td><td>post</td></tr><tr><td>9</td><td>true</td><td>netflix</td><td>expect_column_values_to_not_be_null</td><td>Monthly_Revenue</td><td>{\"element_count\": 2500, \"unexpected_count\": 0, \"unexpected_percent\": 0.0, \"partial_unexpected_list\": [], \"partial_unexpected_counts\": []}</td><td>2024-06-29T03:16:54.083990+00:00</td><td>post</td></tr><tr><td>2</td><td>false</td><td>amazon_prime</td><td>expect_column_values_to_not_be_null</td><td>Location</td><td>{\"element_count\": 40, \"unexpected_count\": 1, \"unexpected_percent\": 2.5, \"partial_unexpected_list\": [null], \"partial_unexpected_counts\": [{\"value\": null, \"count\": 1}]}</td><td>2024-06-29T03:16:32.030542+00:00</td><td>post</td></tr><tr><td>3</td><td>true</td><td>amazon_prime</td><td>expect_column_values_to_not_be_null</td><td>Gender</td><td>{\"element_count\": 40, \"unexpected_count\": 0, \"unexpected_percent\": 0.0, \"partial_unexpected_list\": [], \"partial_unexpected_counts\": []}</td><td>2024-06-29T03:16:32.030542+00:00</td><td>post</td></tr><tr><td>4</td><td>true</td><td>amazon_prime</td><td>expect_column_values_to_not_be_null</td><td>Age</td><td>{\"element_count\": 40, \"unexpected_count\": 0, \"unexpected_percent\": 0.0, \"partial_unexpected_list\": [], \"partial_unexpected_counts\": []}</td><td>2024-06-29T03:16:32.030542+00:00</td><td>post</td></tr><tr><td>2</td><td>true</td><td>netflix</td><td>expect_column_values_to_not_be_null</td><td>Device</td><td>{\"element_count\": 2500, \"unexpected_count\": 0, \"unexpected_percent\": 0.0, \"partial_unexpected_list\": [], \"partial_unexpected_counts\": []}</td><td>2024-06-29T03:16:54.083990+00:00</td><td>post</td></tr><tr><td>3</td><td>true</td><td>netflix</td><td>expect_column_values_to_not_be_null</td><td>Gender</td><td>{\"element_count\": 2500, \"unexpected_count\": 0, \"unexpected_percent\": 0.0, \"partial_unexpected_list\": [], \"partial_unexpected_counts\": []}</td><td>2024-06-29T03:16:54.083990+00:00</td><td>post</td></tr><tr><td>5</td><td>true</td><td>amazon_prime</td><td>expect_column_values_to_not_be_null</td><td>Membership_Status</td><td>{\"element_count\": 40, \"unexpected_count\": 0, \"unexpected_percent\": 0.0, \"partial_unexpected_list\": [], \"partial_unexpected_counts\": []}</td><td>2024-06-29T03:16:32.030542+00:00</td><td>post</td></tr><tr><td>9</td><td>true</td><td>amazon_prime</td><td>expect_column_values_to_not_be_null</td><td>Subscription_Type</td><td>{\"element_count\": 40, \"unexpected_count\": 0, \"unexpected_percent\": 0.0, \"partial_unexpected_list\": [], \"partial_unexpected_counts\": []}</td><td>2024-06-29T03:16:32.030542+00:00</td><td>post</td></tr><tr><td>7</td><td>true</td><td>netflix</td><td>expect_column_values_to_not_be_null</td><td>Last_Payment_Date</td><td>{\"element_count\": 2500, \"unexpected_count\": 0, \"unexpected_percent\": 0.0, \"partial_unexpected_list\": [], \"partial_unexpected_counts\": []}</td><td>2024-06-29T03:16:54.083990+00:00</td><td>post</td></tr><tr><td>10</td><td>true</td><td>netflix</td><td>expect_column_values_to_not_be_null</td><td>Subscription_Type</td><td>{\"element_count\": 2500, \"unexpected_count\": 0, \"unexpected_percent\": 0.0, \"partial_unexpected_list\": [], \"partial_unexpected_counts\": []}</td><td>2024-06-29T03:16:54.083990+00:00</td><td>post</td></tr><tr><td>11</td><td>true</td><td>netflix</td><td>expect_column_values_to_be_unique</td><td>User_ID</td><td>{\"element_count\": 2500, \"unexpected_count\": 0, \"unexpected_percent\": 0.0, \"partial_unexpected_list\": [], \"missing_count\": 5, \"missing_percent\": 0.2, \"unexpected_percent_total\": 0.0, \"unexpected_percent_nonmissing\": 0.0, \"partial_unexpected_counts\": []}</td><td>2024-06-29T03:16:54.083990+00:00</td><td>post</td></tr><tr><td>12</td><td>false</td><td>netflix</td><td>expect_column_values_to_not_be_null</td><td>User_ID</td><td>{\"element_count\": 2500, \"unexpected_count\": 5, \"unexpected_percent\": 0.2, \"partial_unexpected_list\": [null, null, null, null, null], \"partial_unexpected_counts\": [{\"value\": null, \"count\": 5}]}</td><td>2024-06-29T03:16:54.083990+00:00</td><td>post</td></tr><tr><td>1</td><td>true</td><td>netflix</td><td>expect_column_values_to_not_be_null</td><td>Plan_Duration</td><td>{\"element_count\": 2500, \"unexpected_count\": 0, \"unexpected_percent\": 0.0, \"partial_unexpected_list\": [], \"partial_unexpected_counts\": []}</td><td>2024-06-29T03:16:54.083990+00:00</td><td>post</td></tr><tr><td>6</td><td>true</td><td>amazon_prime</td><td>expect_column_values_to_not_be_null</td><td>Plan</td><td>{\"element_count\": 40, \"unexpected_count\": 0, \"unexpected_percent\": 0.0, \"partial_unexpected_list\": [], \"partial_unexpected_counts\": []}</td><td>2024-06-29T03:16:32.030542+00:00</td><td>post</td></tr><tr><td>10</td><td>true</td><td>amazon_prime</td><td>expect_column_values_to_be_unique</td><td>User_ID</td><td>{\"element_count\": 40, \"unexpected_count\": 0, \"unexpected_percent\": 0.0, \"partial_unexpected_list\": [], \"missing_count\": 0, \"missing_percent\": 0.0, \"unexpected_percent_total\": 0.0, \"unexpected_percent_nonmissing\": 0.0, \"partial_unexpected_counts\": []}</td><td>2024-06-29T03:16:32.030542+00:00</td><td>post</td></tr><tr><td>11</td><td>true</td><td>amazon_prime</td><td>expect_column_values_to_not_be_null</td><td>User_ID</td><td>{\"element_count\": 40, \"unexpected_count\": 0, \"unexpected_percent\": 0.0, \"partial_unexpected_list\": [], \"partial_unexpected_counts\": []}</td><td>2024-06-29T03:16:32.030542+00:00</td><td>post</td></tr><tr><td>2</td><td>true</td><td>demo</td><td>expect_column_values_to_not_be_null</td><td>name</td><td>{\"element_count\": 2, \"unexpected_count\": 0, \"unexpected_percent\": 0.0, \"unexpected_percent_total\": 0.0, \"partial_unexpected_list\": []}</td><td>2024-06-29T03:23:46.841211+00:00</td><td>pre</td></tr><tr><td>5</td><td>false</td><td>netflix</td><td>expect_column_values_to_not_be_null</td><td>Age</td><td>{\"element_count\": 2500, \"unexpected_count\": 1, \"unexpected_percent\": 0.04, \"partial_unexpected_list\": [null], \"partial_unexpected_counts\": [{\"value\": null, \"count\": 1}]}</td><td>2024-06-29T03:16:54.083990+00:00</td><td>post</td></tr><tr><td>6</td><td>true</td><td>netflix</td><td>expect_column_values_to_not_be_null</td><td>Country</td><td>{\"element_count\": 2500, \"unexpected_count\": 0, \"unexpected_percent\": 0.0, \"partial_unexpected_list\": [], \"partial_unexpected_counts\": []}</td><td>2024-06-29T03:16:54.083990+00:00</td><td>post</td></tr></tbody></table></div>"
      ]
     },
     "metadata": {
      "application/vnd.databricks.v1+output": {
       "addedWidgets": {},
       "aggData": [],
       "aggError": "",
       "aggOverflow": false,
       "aggSchema": [],
       "aggSeriesLimitReached": false,
       "aggType": "",
       "arguments": {},
       "columnCustomDisplayInfos": {},
       "data": [
        [
         4,
         false,
         "netflix",
         "expect_column_values_to_equal_to_given",
         "Age",
         "{\"element_count\": 2500, \"unexpected_count\": 2412, \"unexpected_percent\": 96.51860744297718, \"partial_unexpected_list\": [28, 35, 42, 51, 33, 29, 46, 39, 37, 44, 31, 45, 48, 27, null, 36, 30, 43, 32, 41], \"missing_count\": 1, \"missing_percent\": 0.04, \"unexpected_percent_total\": 96.48, \"unexpected_percent_nonmissing\": 96.51860744297718}",
         "2024-06-29T03:16:54.083990+00:00",
         "post"
        ],
        [
         7,
         true,
         "amazon_prime",
         "expect_column_values_to_not_be_null",
         "Subscription_End_Date",
         "{\"element_count\": 40, \"unexpected_count\": 0, \"unexpected_percent\": 0.0, \"partial_unexpected_list\": [], \"partial_unexpected_counts\": []}",
         "2024-06-29T03:16:32.030542+00:00",
         "post"
        ],
        [
         8,
         true,
         "amazon_prime",
         "expect_column_values_to_not_be_null",
         "Subscription_Start_Date",
         "{\"element_count\": 40, \"unexpected_count\": 0, \"unexpected_percent\": 0.0, \"partial_unexpected_list\": [], \"partial_unexpected_counts\": []}",
         "2024-06-29T03:16:32.030542+00:00",
         "post"
        ],
        [
         1,
         true,
         "demo",
         "expect_column_values_to_be_unique",
         "id",
         "{\"element_count\": 2, \"missing_count\": 0, \"missing_percent\": 0.0, \"unexpected_count\": 0, \"unexpected_percent\": 0.0, \"unexpected_percent_total\": 0.0, \"unexpected_percent_nonmissing\": 0.0, \"partial_unexpected_list\": []}",
         "2024-06-29T03:23:46.841211+00:00",
         "pre"
        ],
        [
         1,
         false,
         "amazon_prime",
         "expect_column_values_to_not_be_null",
         "Payment_Method",
         "{\"element_count\": 40, \"unexpected_count\": 2, \"unexpected_percent\": 5.0, \"partial_unexpected_list\": [null, null], \"partial_unexpected_counts\": [{\"value\": null, \"count\": 2}]}",
         "2024-06-29T03:16:32.030542+00:00",
         "post"
        ],
        [
         8,
         true,
         "netflix",
         "expect_column_values_to_not_be_null",
         "Join_Date",
         "{\"element_count\": 2500, \"unexpected_count\": 0, \"unexpected_percent\": 0.0, \"partial_unexpected_list\": [], \"partial_unexpected_counts\": []}",
         "2024-06-29T03:16:54.083990+00:00",
         "post"
        ],
        [
         9,
         true,
         "netflix",
         "expect_column_values_to_not_be_null",
         "Monthly_Revenue",
         "{\"element_count\": 2500, \"unexpected_count\": 0, \"unexpected_percent\": 0.0, \"partial_unexpected_list\": [], \"partial_unexpected_counts\": []}",
         "2024-06-29T03:16:54.083990+00:00",
         "post"
        ],
        [
         2,
         false,
         "amazon_prime",
         "expect_column_values_to_not_be_null",
         "Location",
         "{\"element_count\": 40, \"unexpected_count\": 1, \"unexpected_percent\": 2.5, \"partial_unexpected_list\": [null], \"partial_unexpected_counts\": [{\"value\": null, \"count\": 1}]}",
         "2024-06-29T03:16:32.030542+00:00",
         "post"
        ],
        [
         3,
         true,
         "amazon_prime",
         "expect_column_values_to_not_be_null",
         "Gender",
         "{\"element_count\": 40, \"unexpected_count\": 0, \"unexpected_percent\": 0.0, \"partial_unexpected_list\": [], \"partial_unexpected_counts\": []}",
         "2024-06-29T03:16:32.030542+00:00",
         "post"
        ],
        [
         4,
         true,
         "amazon_prime",
         "expect_column_values_to_not_be_null",
         "Age",
         "{\"element_count\": 40, \"unexpected_count\": 0, \"unexpected_percent\": 0.0, \"partial_unexpected_list\": [], \"partial_unexpected_counts\": []}",
         "2024-06-29T03:16:32.030542+00:00",
         "post"
        ],
        [
         2,
         true,
         "netflix",
         "expect_column_values_to_not_be_null",
         "Device",
         "{\"element_count\": 2500, \"unexpected_count\": 0, \"unexpected_percent\": 0.0, \"partial_unexpected_list\": [], \"partial_unexpected_counts\": []}",
         "2024-06-29T03:16:54.083990+00:00",
         "post"
        ],
        [
         3,
         true,
         "netflix",
         "expect_column_values_to_not_be_null",
         "Gender",
         "{\"element_count\": 2500, \"unexpected_count\": 0, \"unexpected_percent\": 0.0, \"partial_unexpected_list\": [], \"partial_unexpected_counts\": []}",
         "2024-06-29T03:16:54.083990+00:00",
         "post"
        ],
        [
         5,
         true,
         "amazon_prime",
         "expect_column_values_to_not_be_null",
         "Membership_Status",
         "{\"element_count\": 40, \"unexpected_count\": 0, \"unexpected_percent\": 0.0, \"partial_unexpected_list\": [], \"partial_unexpected_counts\": []}",
         "2024-06-29T03:16:32.030542+00:00",
         "post"
        ],
        [
         9,
         true,
         "amazon_prime",
         "expect_column_values_to_not_be_null",
         "Subscription_Type",
         "{\"element_count\": 40, \"unexpected_count\": 0, \"unexpected_percent\": 0.0, \"partial_unexpected_list\": [], \"partial_unexpected_counts\": []}",
         "2024-06-29T03:16:32.030542+00:00",
         "post"
        ],
        [
         7,
         true,
         "netflix",
         "expect_column_values_to_not_be_null",
         "Last_Payment_Date",
         "{\"element_count\": 2500, \"unexpected_count\": 0, \"unexpected_percent\": 0.0, \"partial_unexpected_list\": [], \"partial_unexpected_counts\": []}",
         "2024-06-29T03:16:54.083990+00:00",
         "post"
        ],
        [
         10,
         true,
         "netflix",
         "expect_column_values_to_not_be_null",
         "Subscription_Type",
         "{\"element_count\": 2500, \"unexpected_count\": 0, \"unexpected_percent\": 0.0, \"partial_unexpected_list\": [], \"partial_unexpected_counts\": []}",
         "2024-06-29T03:16:54.083990+00:00",
         "post"
        ],
        [
         11,
         true,
         "netflix",
         "expect_column_values_to_be_unique",
         "User_ID",
         "{\"element_count\": 2500, \"unexpected_count\": 0, \"unexpected_percent\": 0.0, \"partial_unexpected_list\": [], \"missing_count\": 5, \"missing_percent\": 0.2, \"unexpected_percent_total\": 0.0, \"unexpected_percent_nonmissing\": 0.0, \"partial_unexpected_counts\": []}",
         "2024-06-29T03:16:54.083990+00:00",
         "post"
        ],
        [
         12,
         false,
         "netflix",
         "expect_column_values_to_not_be_null",
         "User_ID",
         "{\"element_count\": 2500, \"unexpected_count\": 5, \"unexpected_percent\": 0.2, \"partial_unexpected_list\": [null, null, null, null, null], \"partial_unexpected_counts\": [{\"value\": null, \"count\": 5}]}",
         "2024-06-29T03:16:54.083990+00:00",
         "post"
        ],
        [
         1,
         true,
         "netflix",
         "expect_column_values_to_not_be_null",
         "Plan_Duration",
         "{\"element_count\": 2500, \"unexpected_count\": 0, \"unexpected_percent\": 0.0, \"partial_unexpected_list\": [], \"partial_unexpected_counts\": []}",
         "2024-06-29T03:16:54.083990+00:00",
         "post"
        ],
        [
         6,
         true,
         "amazon_prime",
         "expect_column_values_to_not_be_null",
         "Plan",
         "{\"element_count\": 40, \"unexpected_count\": 0, \"unexpected_percent\": 0.0, \"partial_unexpected_list\": [], \"partial_unexpected_counts\": []}",
         "2024-06-29T03:16:32.030542+00:00",
         "post"
        ],
        [
         10,
         true,
         "amazon_prime",
         "expect_column_values_to_be_unique",
         "User_ID",
         "{\"element_count\": 40, \"unexpected_count\": 0, \"unexpected_percent\": 0.0, \"partial_unexpected_list\": [], \"missing_count\": 0, \"missing_percent\": 0.0, \"unexpected_percent_total\": 0.0, \"unexpected_percent_nonmissing\": 0.0, \"partial_unexpected_counts\": []}",
         "2024-06-29T03:16:32.030542+00:00",
         "post"
        ],
        [
         11,
         true,
         "amazon_prime",
         "expect_column_values_to_not_be_null",
         "User_ID",
         "{\"element_count\": 40, \"unexpected_count\": 0, \"unexpected_percent\": 0.0, \"partial_unexpected_list\": [], \"partial_unexpected_counts\": []}",
         "2024-06-29T03:16:32.030542+00:00",
         "post"
        ],
        [
         2,
         true,
         "demo",
         "expect_column_values_to_not_be_null",
         "name",
         "{\"element_count\": 2, \"unexpected_count\": 0, \"unexpected_percent\": 0.0, \"unexpected_percent_total\": 0.0, \"partial_unexpected_list\": []}",
         "2024-06-29T03:23:46.841211+00:00",
         "pre"
        ],
        [
         5,
         false,
         "netflix",
         "expect_column_values_to_not_be_null",
         "Age",
         "{\"element_count\": 2500, \"unexpected_count\": 1, \"unexpected_percent\": 0.04, \"partial_unexpected_list\": [null], \"partial_unexpected_counts\": [{\"value\": null, \"count\": 1}]}",
         "2024-06-29T03:16:54.083990+00:00",
         "post"
        ],
        [
         6,
         true,
         "netflix",
         "expect_column_values_to_not_be_null",
         "Country",
         "{\"element_count\": 2500, \"unexpected_count\": 0, \"unexpected_percent\": 0.0, \"partial_unexpected_list\": [], \"partial_unexpected_counts\": []}",
         "2024-06-29T03:16:54.083990+00:00",
         "post"
        ]
       ],
       "datasetInfos": [],
       "dbfsResultPath": null,
       "isJsonSchema": true,
       "metadata": {},
       "overflow": false,
       "plotOptions": {
        "customPlotOptions": {},
        "displayType": "table",
        "pivotAggregation": null,
        "pivotColumns": null,
        "xColumns": null,
        "yColumns": null
       },
       "removedWidgets": [],
       "schema": [
        {
         "metadata": "{}",
         "name": "result_id",
         "type": "\"integer\""
        },
        {
         "metadata": "{}",
         "name": "success",
         "type": "\"boolean\""
        },
        {
         "metadata": "{}",
         "name": "table_name",
         "type": "\"string\""
        },
        {
         "metadata": "{}",
         "name": "expectation_type",
         "type": "\"string\""
        },
        {
         "metadata": "{}",
         "name": "column",
         "type": "\"string\""
        },
        {
         "metadata": "{}",
         "name": "result",
         "type": "\"string\""
        },
        {
         "metadata": "{}",
         "name": "runtime",
         "type": "\"string\""
        },
        {
         "metadata": "{}",
         "name": "validation_type",
         "type": "\"string\""
        }
       ],
       "type": "table"
      }
     },
     "output_type": "display_data"
    }
   ],
   "source": [
    "validation_type=\"pre\"\n",
    "root_dir = \"/dbfs/great_expectations/\"\n",
    "manager = DataQualityManager(root_dir)\n",
    "if validation_type==\"pre\":\n",
    "# Initialize the DataQualityManager with the root directory\n",
    "    # Example DataFrame (replace this with your actual DataFrame)\n",
    "    # This is just a placeholder. You would typically load your actual DataFrame here.\n",
    "    df = spark.createDataFrame([(1, \"Alice\"), (2, \"Bob\")], [\"id\", \"name\"])\n",
    "    table_name=\"demo\"\n",
    "    # Define expectations (example format, replace with your actual expectations)\n",
    "    expectations = [\n",
    "        {\n",
    "            \"expectation\": \"expect_column_values_to_be_unique\",\n",
    "            \"args\": [\"id\"],\n",
    "            \"kwargs\": {}\n",
    "        },\n",
    "        {\n",
    "            \"expectation\": \"expect_column_values_to_not_be_null\",\n",
    "            \"args\": [\"name\"],\n",
    "            \"kwargs\": {}\n",
    "        }\n",
    "    ]\n",
    "\n",
    "    # Use the manager to process the DataFrame\n",
    "    manager.process_table(table_name=table_name, validation_type=\"pre\", df=df, expectations=expectations)\n",
    "elif validation_type==\"post\":\n",
    "    manager.main()\n",
    "else:\n",
    "    print(\"Invalid Validation type\")\n",
    "\n"
   ]
  },
  {
   "cell_type": "code",
   "execution_count": 0,
   "metadata": {
    "application/vnd.databricks.v1+cell": {
     "cellMetadata": {
      "byteLimit": 2048000,
      "implicitDf": true,
      "rowLimit": 10000
     },
     "inputWidgets": {},
     "nuid": "469069bb-7d9a-4693-a4dc-cc57ba598d48",
     "showTitle": false,
     "title": ""
    }
   },
   "outputs": [
    {
     "output_type": "display_data",
     "data": {
      "text/html": [
       "<style scoped>\n",
       "  .table-result-container {\n",
       "    max-height: 300px;\n",
       "    overflow: auto;\n",
       "  }\n",
       "  table, th, td {\n",
       "    border: 1px solid black;\n",
       "    border-collapse: collapse;\n",
       "  }\n",
       "  th, td {\n",
       "    padding: 5px;\n",
       "  }\n",
       "  th {\n",
       "    text-align: left;\n",
       "  }\n",
       "</style><div class='table-result-container'><table class='table-result'><thead style='background-color: white'><tr><th>result_id</th><th>success</th><th>table_name</th><th>expectation_type</th><th>column</th><th>result</th><th>runtime</th><th>validation_type</th></tr></thead><tbody><tr><td>4</td><td>false</td><td>netflix</td><td>expect_column_values_to_equal_to_given</td><td>Age</td><td>{\"element_count\": 2500, \"unexpected_count\": 2412, \"unexpected_percent\": 96.51860744297718, \"partial_unexpected_list\": [28, 35, 42, 51, 33, 29, 46, 39, 37, 44, 31, 45, 48, 27, null, 36, 30, 43, 32, 41], \"missing_count\": 1, \"missing_percent\": 0.04, \"unexpected_percent_total\": 96.48, \"unexpected_percent_nonmissing\": 96.51860744297718}</td><td>2024-06-29T03:16:54.083990+00:00</td><td>post</td></tr><tr><td>7</td><td>true</td><td>amazon_prime</td><td>expect_column_values_to_not_be_null</td><td>Subscription_End_Date</td><td>{\"element_count\": 40, \"unexpected_count\": 0, \"unexpected_percent\": 0.0, \"partial_unexpected_list\": [], \"partial_unexpected_counts\": []}</td><td>2024-06-29T03:16:32.030542+00:00</td><td>post</td></tr><tr><td>8</td><td>true</td><td>amazon_prime</td><td>expect_column_values_to_not_be_null</td><td>Subscription_Start_Date</td><td>{\"element_count\": 40, \"unexpected_count\": 0, \"unexpected_percent\": 0.0, \"partial_unexpected_list\": [], \"partial_unexpected_counts\": []}</td><td>2024-06-29T03:16:32.030542+00:00</td><td>post</td></tr><tr><td>1</td><td>true</td><td>demo</td><td>expect_column_values_to_be_unique</td><td>id</td><td>{\"element_count\": 2, \"missing_count\": 0, \"missing_percent\": 0.0, \"unexpected_count\": 0, \"unexpected_percent\": 0.0, \"unexpected_percent_total\": 0.0, \"unexpected_percent_nonmissing\": 0.0, \"partial_unexpected_list\": []}</td><td>2024-06-29T03:23:46.841211+00:00</td><td>pre</td></tr><tr><td>1</td><td>true</td><td>demo</td><td>expect_column_values_to_be_unique</td><td>id</td><td>{\"element_count\": 2, \"missing_count\": 0, \"missing_percent\": 0.0, \"unexpected_count\": 0, \"unexpected_percent\": 0.0, \"unexpected_percent_total\": 0.0, \"unexpected_percent_nonmissing\": 0.0, \"partial_unexpected_list\": []}</td><td>2024-06-29T03:45:20.657656+00:00</td><td>pre</td></tr><tr><td>1</td><td>false</td><td>amazon_prime</td><td>expect_column_values_to_not_be_null</td><td>Payment_Method</td><td>{\"element_count\": 40, \"unexpected_count\": 2, \"unexpected_percent\": 5.0, \"partial_unexpected_list\": [null, null], \"partial_unexpected_counts\": [{\"value\": null, \"count\": 2}]}</td><td>2024-06-29T03:16:32.030542+00:00</td><td>post</td></tr><tr><td>8</td><td>true</td><td>netflix</td><td>expect_column_values_to_not_be_null</td><td>Join_Date</td><td>{\"element_count\": 2500, \"unexpected_count\": 0, \"unexpected_percent\": 0.0, \"partial_unexpected_list\": [], \"partial_unexpected_counts\": []}</td><td>2024-06-29T03:16:54.083990+00:00</td><td>post</td></tr><tr><td>9</td><td>true</td><td>netflix</td><td>expect_column_values_to_not_be_null</td><td>Monthly_Revenue</td><td>{\"element_count\": 2500, \"unexpected_count\": 0, \"unexpected_percent\": 0.0, \"partial_unexpected_list\": [], \"partial_unexpected_counts\": []}</td><td>2024-06-29T03:16:54.083990+00:00</td><td>post</td></tr><tr><td>2</td><td>false</td><td>amazon_prime</td><td>expect_column_values_to_not_be_null</td><td>Location</td><td>{\"element_count\": 40, \"unexpected_count\": 1, \"unexpected_percent\": 2.5, \"partial_unexpected_list\": [null], \"partial_unexpected_counts\": [{\"value\": null, \"count\": 1}]}</td><td>2024-06-29T03:16:32.030542+00:00</td><td>post</td></tr><tr><td>3</td><td>true</td><td>amazon_prime</td><td>expect_column_values_to_not_be_null</td><td>Gender</td><td>{\"element_count\": 40, \"unexpected_count\": 0, \"unexpected_percent\": 0.0, \"partial_unexpected_list\": [], \"partial_unexpected_counts\": []}</td><td>2024-06-29T03:16:32.030542+00:00</td><td>post</td></tr><tr><td>4</td><td>true</td><td>amazon_prime</td><td>expect_column_values_to_not_be_null</td><td>Age</td><td>{\"element_count\": 40, \"unexpected_count\": 0, \"unexpected_percent\": 0.0, \"partial_unexpected_list\": [], \"partial_unexpected_counts\": []}</td><td>2024-06-29T03:16:32.030542+00:00</td><td>post</td></tr><tr><td>2</td><td>true</td><td>netflix</td><td>expect_column_values_to_not_be_null</td><td>Device</td><td>{\"element_count\": 2500, \"unexpected_count\": 0, \"unexpected_percent\": 0.0, \"partial_unexpected_list\": [], \"partial_unexpected_counts\": []}</td><td>2024-06-29T03:16:54.083990+00:00</td><td>post</td></tr><tr><td>3</td><td>true</td><td>netflix</td><td>expect_column_values_to_not_be_null</td><td>Gender</td><td>{\"element_count\": 2500, \"unexpected_count\": 0, \"unexpected_percent\": 0.0, \"partial_unexpected_list\": [], \"partial_unexpected_counts\": []}</td><td>2024-06-29T03:16:54.083990+00:00</td><td>post</td></tr><tr><td>5</td><td>true</td><td>amazon_prime</td><td>expect_column_values_to_not_be_null</td><td>Membership_Status</td><td>{\"element_count\": 40, \"unexpected_count\": 0, \"unexpected_percent\": 0.0, \"partial_unexpected_list\": [], \"partial_unexpected_counts\": []}</td><td>2024-06-29T03:16:32.030542+00:00</td><td>post</td></tr><tr><td>9</td><td>true</td><td>amazon_prime</td><td>expect_column_values_to_not_be_null</td><td>Subscription_Type</td><td>{\"element_count\": 40, \"unexpected_count\": 0, \"unexpected_percent\": 0.0, \"partial_unexpected_list\": [], \"partial_unexpected_counts\": []}</td><td>2024-06-29T03:16:32.030542+00:00</td><td>post</td></tr><tr><td>7</td><td>true</td><td>netflix</td><td>expect_column_values_to_not_be_null</td><td>Last_Payment_Date</td><td>{\"element_count\": 2500, \"unexpected_count\": 0, \"unexpected_percent\": 0.0, \"partial_unexpected_list\": [], \"partial_unexpected_counts\": []}</td><td>2024-06-29T03:16:54.083990+00:00</td><td>post</td></tr><tr><td>10</td><td>true</td><td>netflix</td><td>expect_column_values_to_not_be_null</td><td>Subscription_Type</td><td>{\"element_count\": 2500, \"unexpected_count\": 0, \"unexpected_percent\": 0.0, \"partial_unexpected_list\": [], \"partial_unexpected_counts\": []}</td><td>2024-06-29T03:16:54.083990+00:00</td><td>post</td></tr><tr><td>11</td><td>true</td><td>netflix</td><td>expect_column_values_to_be_unique</td><td>User_ID</td><td>{\"element_count\": 2500, \"unexpected_count\": 0, \"unexpected_percent\": 0.0, \"partial_unexpected_list\": [], \"missing_count\": 5, \"missing_percent\": 0.2, \"unexpected_percent_total\": 0.0, \"unexpected_percent_nonmissing\": 0.0, \"partial_unexpected_counts\": []}</td><td>2024-06-29T03:16:54.083990+00:00</td><td>post</td></tr><tr><td>12</td><td>false</td><td>netflix</td><td>expect_column_values_to_not_be_null</td><td>User_ID</td><td>{\"element_count\": 2500, \"unexpected_count\": 5, \"unexpected_percent\": 0.2, \"partial_unexpected_list\": [null, null, null, null, null], \"partial_unexpected_counts\": [{\"value\": null, \"count\": 5}]}</td><td>2024-06-29T03:16:54.083990+00:00</td><td>post</td></tr><tr><td>1</td><td>true</td><td>netflix</td><td>expect_column_values_to_not_be_null</td><td>Plan_Duration</td><td>{\"element_count\": 2500, \"unexpected_count\": 0, \"unexpected_percent\": 0.0, \"partial_unexpected_list\": [], \"partial_unexpected_counts\": []}</td><td>2024-06-29T03:16:54.083990+00:00</td><td>post</td></tr><tr><td>6</td><td>true</td><td>amazon_prime</td><td>expect_column_values_to_not_be_null</td><td>Plan</td><td>{\"element_count\": 40, \"unexpected_count\": 0, \"unexpected_percent\": 0.0, \"partial_unexpected_list\": [], \"partial_unexpected_counts\": []}</td><td>2024-06-29T03:16:32.030542+00:00</td><td>post</td></tr><tr><td>10</td><td>true</td><td>amazon_prime</td><td>expect_column_values_to_be_unique</td><td>User_ID</td><td>{\"element_count\": 40, \"unexpected_count\": 0, \"unexpected_percent\": 0.0, \"partial_unexpected_list\": [], \"missing_count\": 0, \"missing_percent\": 0.0, \"unexpected_percent_total\": 0.0, \"unexpected_percent_nonmissing\": 0.0, \"partial_unexpected_counts\": []}</td><td>2024-06-29T03:16:32.030542+00:00</td><td>post</td></tr><tr><td>11</td><td>true</td><td>amazon_prime</td><td>expect_column_values_to_not_be_null</td><td>User_ID</td><td>{\"element_count\": 40, \"unexpected_count\": 0, \"unexpected_percent\": 0.0, \"partial_unexpected_list\": [], \"partial_unexpected_counts\": []}</td><td>2024-06-29T03:16:32.030542+00:00</td><td>post</td></tr><tr><td>2</td><td>true</td><td>demo</td><td>expect_column_values_to_not_be_null</td><td>name</td><td>{\"element_count\": 2, \"unexpected_count\": 0, \"unexpected_percent\": 0.0, \"unexpected_percent_total\": 0.0, \"partial_unexpected_list\": []}</td><td>2024-06-29T03:23:46.841211+00:00</td><td>pre</td></tr><tr><td>2</td><td>true</td><td>demo</td><td>expect_column_values_to_not_be_null</td><td>name</td><td>{\"element_count\": 2, \"unexpected_count\": 0, \"unexpected_percent\": 0.0, \"unexpected_percent_total\": 0.0, \"partial_unexpected_list\": []}</td><td>2024-06-29T03:45:20.657656+00:00</td><td>pre</td></tr><tr><td>5</td><td>false</td><td>netflix</td><td>expect_column_values_to_not_be_null</td><td>Age</td><td>{\"element_count\": 2500, \"unexpected_count\": 1, \"unexpected_percent\": 0.04, \"partial_unexpected_list\": [null], \"partial_unexpected_counts\": [{\"value\": null, \"count\": 1}]}</td><td>2024-06-29T03:16:54.083990+00:00</td><td>post</td></tr><tr><td>6</td><td>true</td><td>netflix</td><td>expect_column_values_to_not_be_null</td><td>Country</td><td>{\"element_count\": 2500, \"unexpected_count\": 0, \"unexpected_percent\": 0.0, \"partial_unexpected_list\": [], \"partial_unexpected_counts\": []}</td><td>2024-06-29T03:16:54.083990+00:00</td><td>post</td></tr></tbody></table></div>"
      ]
     },
     "metadata": {
      "application/vnd.databricks.v1+output": {
       "addedWidgets": {},
       "aggData": [],
       "aggError": "",
       "aggOverflow": false,
       "aggSchema": [],
       "aggSeriesLimitReached": false,
       "aggType": "",
       "arguments": {},
       "columnCustomDisplayInfos": {},
       "data": [
        [
         4,
         false,
         "netflix",
         "expect_column_values_to_equal_to_given",
         "Age",
         "{\"element_count\": 2500, \"unexpected_count\": 2412, \"unexpected_percent\": 96.51860744297718, \"partial_unexpected_list\": [28, 35, 42, 51, 33, 29, 46, 39, 37, 44, 31, 45, 48, 27, null, 36, 30, 43, 32, 41], \"missing_count\": 1, \"missing_percent\": 0.04, \"unexpected_percent_total\": 96.48, \"unexpected_percent_nonmissing\": 96.51860744297718}",
         "2024-06-29T03:16:54.083990+00:00",
         "post"
        ],
        [
         7,
         true,
         "amazon_prime",
         "expect_column_values_to_not_be_null",
         "Subscription_End_Date",
         "{\"element_count\": 40, \"unexpected_count\": 0, \"unexpected_percent\": 0.0, \"partial_unexpected_list\": [], \"partial_unexpected_counts\": []}",
         "2024-06-29T03:16:32.030542+00:00",
         "post"
        ],
        [
         8,
         true,
         "amazon_prime",
         "expect_column_values_to_not_be_null",
         "Subscription_Start_Date",
         "{\"element_count\": 40, \"unexpected_count\": 0, \"unexpected_percent\": 0.0, \"partial_unexpected_list\": [], \"partial_unexpected_counts\": []}",
         "2024-06-29T03:16:32.030542+00:00",
         "post"
        ],
        [
         1,
         true,
         "demo",
         "expect_column_values_to_be_unique",
         "id",
         "{\"element_count\": 2, \"missing_count\": 0, \"missing_percent\": 0.0, \"unexpected_count\": 0, \"unexpected_percent\": 0.0, \"unexpected_percent_total\": 0.0, \"unexpected_percent_nonmissing\": 0.0, \"partial_unexpected_list\": []}",
         "2024-06-29T03:23:46.841211+00:00",
         "pre"
        ],
        [
         1,
         true,
         "demo",
         "expect_column_values_to_be_unique",
         "id",
         "{\"element_count\": 2, \"missing_count\": 0, \"missing_percent\": 0.0, \"unexpected_count\": 0, \"unexpected_percent\": 0.0, \"unexpected_percent_total\": 0.0, \"unexpected_percent_nonmissing\": 0.0, \"partial_unexpected_list\": []}",
         "2024-06-29T03:45:20.657656+00:00",
         "pre"
        ],
        [
         1,
         false,
         "amazon_prime",
         "expect_column_values_to_not_be_null",
         "Payment_Method",
         "{\"element_count\": 40, \"unexpected_count\": 2, \"unexpected_percent\": 5.0, \"partial_unexpected_list\": [null, null], \"partial_unexpected_counts\": [{\"value\": null, \"count\": 2}]}",
         "2024-06-29T03:16:32.030542+00:00",
         "post"
        ],
        [
         8,
         true,
         "netflix",
         "expect_column_values_to_not_be_null",
         "Join_Date",
         "{\"element_count\": 2500, \"unexpected_count\": 0, \"unexpected_percent\": 0.0, \"partial_unexpected_list\": [], \"partial_unexpected_counts\": []}",
         "2024-06-29T03:16:54.083990+00:00",
         "post"
        ],
        [
         9,
         true,
         "netflix",
         "expect_column_values_to_not_be_null",
         "Monthly_Revenue",
         "{\"element_count\": 2500, \"unexpected_count\": 0, \"unexpected_percent\": 0.0, \"partial_unexpected_list\": [], \"partial_unexpected_counts\": []}",
         "2024-06-29T03:16:54.083990+00:00",
         "post"
        ],
        [
         2,
         false,
         "amazon_prime",
         "expect_column_values_to_not_be_null",
         "Location",
         "{\"element_count\": 40, \"unexpected_count\": 1, \"unexpected_percent\": 2.5, \"partial_unexpected_list\": [null], \"partial_unexpected_counts\": [{\"value\": null, \"count\": 1}]}",
         "2024-06-29T03:16:32.030542+00:00",
         "post"
        ],
        [
         3,
         true,
         "amazon_prime",
         "expect_column_values_to_not_be_null",
         "Gender",
         "{\"element_count\": 40, \"unexpected_count\": 0, \"unexpected_percent\": 0.0, \"partial_unexpected_list\": [], \"partial_unexpected_counts\": []}",
         "2024-06-29T03:16:32.030542+00:00",
         "post"
        ],
        [
         4,
         true,
         "amazon_prime",
         "expect_column_values_to_not_be_null",
         "Age",
         "{\"element_count\": 40, \"unexpected_count\": 0, \"unexpected_percent\": 0.0, \"partial_unexpected_list\": [], \"partial_unexpected_counts\": []}",
         "2024-06-29T03:16:32.030542+00:00",
         "post"
        ],
        [
         2,
         true,
         "netflix",
         "expect_column_values_to_not_be_null",
         "Device",
         "{\"element_count\": 2500, \"unexpected_count\": 0, \"unexpected_percent\": 0.0, \"partial_unexpected_list\": [], \"partial_unexpected_counts\": []}",
         "2024-06-29T03:16:54.083990+00:00",
         "post"
        ],
        [
         3,
         true,
         "netflix",
         "expect_column_values_to_not_be_null",
         "Gender",
         "{\"element_count\": 2500, \"unexpected_count\": 0, \"unexpected_percent\": 0.0, \"partial_unexpected_list\": [], \"partial_unexpected_counts\": []}",
         "2024-06-29T03:16:54.083990+00:00",
         "post"
        ],
        [
         5,
         true,
         "amazon_prime",
         "expect_column_values_to_not_be_null",
         "Membership_Status",
         "{\"element_count\": 40, \"unexpected_count\": 0, \"unexpected_percent\": 0.0, \"partial_unexpected_list\": [], \"partial_unexpected_counts\": []}",
         "2024-06-29T03:16:32.030542+00:00",
         "post"
        ],
        [
         9,
         true,
         "amazon_prime",
         "expect_column_values_to_not_be_null",
         "Subscription_Type",
         "{\"element_count\": 40, \"unexpected_count\": 0, \"unexpected_percent\": 0.0, \"partial_unexpected_list\": [], \"partial_unexpected_counts\": []}",
         "2024-06-29T03:16:32.030542+00:00",
         "post"
        ],
        [
         7,
         true,
         "netflix",
         "expect_column_values_to_not_be_null",
         "Last_Payment_Date",
         "{\"element_count\": 2500, \"unexpected_count\": 0, \"unexpected_percent\": 0.0, \"partial_unexpected_list\": [], \"partial_unexpected_counts\": []}",
         "2024-06-29T03:16:54.083990+00:00",
         "post"
        ],
        [
         10,
         true,
         "netflix",
         "expect_column_values_to_not_be_null",
         "Subscription_Type",
         "{\"element_count\": 2500, \"unexpected_count\": 0, \"unexpected_percent\": 0.0, \"partial_unexpected_list\": [], \"partial_unexpected_counts\": []}",
         "2024-06-29T03:16:54.083990+00:00",
         "post"
        ],
        [
         11,
         true,
         "netflix",
         "expect_column_values_to_be_unique",
         "User_ID",
         "{\"element_count\": 2500, \"unexpected_count\": 0, \"unexpected_percent\": 0.0, \"partial_unexpected_list\": [], \"missing_count\": 5, \"missing_percent\": 0.2, \"unexpected_percent_total\": 0.0, \"unexpected_percent_nonmissing\": 0.0, \"partial_unexpected_counts\": []}",
         "2024-06-29T03:16:54.083990+00:00",
         "post"
        ],
        [
         12,
         false,
         "netflix",
         "expect_column_values_to_not_be_null",
         "User_ID",
         "{\"element_count\": 2500, \"unexpected_count\": 5, \"unexpected_percent\": 0.2, \"partial_unexpected_list\": [null, null, null, null, null], \"partial_unexpected_counts\": [{\"value\": null, \"count\": 5}]}",
         "2024-06-29T03:16:54.083990+00:00",
         "post"
        ],
        [
         1,
         true,
         "netflix",
         "expect_column_values_to_not_be_null",
         "Plan_Duration",
         "{\"element_count\": 2500, \"unexpected_count\": 0, \"unexpected_percent\": 0.0, \"partial_unexpected_list\": [], \"partial_unexpected_counts\": []}",
         "2024-06-29T03:16:54.083990+00:00",
         "post"
        ],
        [
         6,
         true,
         "amazon_prime",
         "expect_column_values_to_not_be_null",
         "Plan",
         "{\"element_count\": 40, \"unexpected_count\": 0, \"unexpected_percent\": 0.0, \"partial_unexpected_list\": [], \"partial_unexpected_counts\": []}",
         "2024-06-29T03:16:32.030542+00:00",
         "post"
        ],
        [
         10,
         true,
         "amazon_prime",
         "expect_column_values_to_be_unique",
         "User_ID",
         "{\"element_count\": 40, \"unexpected_count\": 0, \"unexpected_percent\": 0.0, \"partial_unexpected_list\": [], \"missing_count\": 0, \"missing_percent\": 0.0, \"unexpected_percent_total\": 0.0, \"unexpected_percent_nonmissing\": 0.0, \"partial_unexpected_counts\": []}",
         "2024-06-29T03:16:32.030542+00:00",
         "post"
        ],
        [
         11,
         true,
         "amazon_prime",
         "expect_column_values_to_not_be_null",
         "User_ID",
         "{\"element_count\": 40, \"unexpected_count\": 0, \"unexpected_percent\": 0.0, \"partial_unexpected_list\": [], \"partial_unexpected_counts\": []}",
         "2024-06-29T03:16:32.030542+00:00",
         "post"
        ],
        [
         2,
         true,
         "demo",
         "expect_column_values_to_not_be_null",
         "name",
         "{\"element_count\": 2, \"unexpected_count\": 0, \"unexpected_percent\": 0.0, \"unexpected_percent_total\": 0.0, \"partial_unexpected_list\": []}",
         "2024-06-29T03:23:46.841211+00:00",
         "pre"
        ],
        [
         2,
         true,
         "demo",
         "expect_column_values_to_not_be_null",
         "name",
         "{\"element_count\": 2, \"unexpected_count\": 0, \"unexpected_percent\": 0.0, \"unexpected_percent_total\": 0.0, \"partial_unexpected_list\": []}",
         "2024-06-29T03:45:20.657656+00:00",
         "pre"
        ],
        [
         5,
         false,
         "netflix",
         "expect_column_values_to_not_be_null",
         "Age",
         "{\"element_count\": 2500, \"unexpected_count\": 1, \"unexpected_percent\": 0.04, \"partial_unexpected_list\": [null], \"partial_unexpected_counts\": [{\"value\": null, \"count\": 1}]}",
         "2024-06-29T03:16:54.083990+00:00",
         "post"
        ],
        [
         6,
         true,
         "netflix",
         "expect_column_values_to_not_be_null",
         "Country",
         "{\"element_count\": 2500, \"unexpected_count\": 0, \"unexpected_percent\": 0.0, \"partial_unexpected_list\": [], \"partial_unexpected_counts\": []}",
         "2024-06-29T03:16:54.083990+00:00",
         "post"
        ]
       ],
       "datasetInfos": [],
       "dbfsResultPath": null,
       "isJsonSchema": true,
       "metadata": {},
       "overflow": false,
       "plotOptions": {
        "customPlotOptions": {},
        "displayType": "table",
        "pivotAggregation": null,
        "pivotColumns": null,
        "xColumns": null,
        "yColumns": null
       },
       "removedWidgets": [],
       "schema": [
        {
         "metadata": "{}",
         "name": "result_id",
         "type": "\"integer\""
        },
        {
         "metadata": "{}",
         "name": "success",
         "type": "\"boolean\""
        },
        {
         "metadata": "{}",
         "name": "table_name",
         "type": "\"string\""
        },
        {
         "metadata": "{}",
         "name": "expectation_type",
         "type": "\"string\""
        },
        {
         "metadata": "{}",
         "name": "column",
         "type": "\"string\""
        },
        {
         "metadata": "{}",
         "name": "result",
         "type": "\"string\""
        },
        {
         "metadata": "{}",
         "name": "runtime",
         "type": "\"string\""
        },
        {
         "metadata": "{}",
         "name": "validation_type",
         "type": "\"string\""
        }
       ],
       "type": "table"
      }
     },
     "output_type": "display_data"
    }
   ],
   "source": [
    "%sql\n",
    "select * from dq_validation_results"
   ]
  }
 ],
 "metadata": {
  "application/vnd.databricks.v1+notebook": {
   "dashboards": [],
   "environmentMetadata": null,
   "language": "python",
   "notebookMetadata": {
    "mostRecentlyExecutedCommandWithImplicitDF": {
     "commandId": 497914253220380,
     "dataframes": [
      "_sqldf"
     ]
    },
    "pythonIndentUnit": 4
   },
   "notebookName": "main",
   "widgets": {}
  }
 },
 "nbformat": 4,
 "nbformat_minor": 0
}
